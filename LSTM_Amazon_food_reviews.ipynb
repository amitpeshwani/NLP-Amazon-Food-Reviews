{
 "cells": [
  {
   "cell_type": "code",
   "execution_count": 59,
   "metadata": {},
   "outputs": [],
   "source": [
    "# Credits: https://machinelearningmastery.com/sequence-classification-lstm-recurrent-neural-networks-python-keras/\n",
    "# LSTM for sequence classification in the IMDB dataset\n",
    "import numpy\n",
    "import sqlite3\n",
    "import pandas as pd\n",
    "import numpy as np\n",
    "from sklearn import model_selection\n",
    "from keras.datasets import imdb\n",
    "from keras.models import Sequential\n",
    "from keras.layers import Dense\n",
    "from keras.layers import LSTM\n",
    "from keras.layers.embeddings import Embedding\n",
    "from keras.preprocessing import sequence\n",
    "from bs4 import BeautifulSoup\n",
    "# fix random seed for reproducibility\n",
    "numpy.random.seed(7)\n",
    "import matplotlib.pyplot as plt\n",
    "\n",
    "def savefile(obj,filename):\n",
    "    pickle.dump(obj,open(filename+\".p\",\"wb\"))\n",
    "def openfile(filename):\n",
    "    temp = pickle.load(open(filename+\".p\",\"rb\"))\n",
    "    return temp\n",
    "from tqdm import tqdm\n",
    "import os\n"
   ]
  },
  {
   "cell_type": "code",
   "execution_count": 2,
   "metadata": {},
   "outputs": [],
   "source": [
    "if os.path.isfile('final.sqlite'):\n",
    "    conn = sqlite3.connect('final.sqlite')\n",
    "    final = pd.read_sql_query(\"\"\" SELECT * FROM Reviews WHERE Score != 3 \"\"\", conn)\n",
    "    conn.close()\n",
    "else:\n",
    "    print(\"Please the above cell\")\n",
    "    "
   ]
  },
  {
   "cell_type": "code",
   "execution_count": 3,
   "metadata": {},
   "outputs": [],
   "source": [
    "# https://stackoverflow.com/a/47091490/4084039\n",
    "import re\n",
    "\n",
    "def decontracted(phrase):\n",
    "    # specific\n",
    "    phrase = re.sub(r\"won't\", \"will not\", phrase)\n",
    "    phrase = re.sub(r\"can\\'t\", \"can not\", phrase)\n",
    "\n",
    "    # general\n",
    "    phrase = re.sub(r\"n\\'t\", \" not\", phrase)\n",
    "    phrase = re.sub(r\"\\'re\", \" are\", phrase)\n",
    "    phrase = re.sub(r\"\\'s\", \" is\", phrase)\n",
    "    phrase = re.sub(r\"\\'d\", \" would\", phrase)\n",
    "    phrase = re.sub(r\"\\'ll\", \" will\", phrase)\n",
    "    phrase = re.sub(r\"\\'t\", \" not\", phrase)\n",
    "    phrase = re.sub(r\"\\'ve\", \" have\", phrase)\n",
    "    phrase = re.sub(r\"\\'m\", \" am\", phrase)\n",
    "    return phrase"
   ]
  },
  {
   "cell_type": "code",
   "execution_count": 4,
   "metadata": {},
   "outputs": [],
   "source": [
    "# https://gist.github.com/sebleier/554280\n",
    "# we are removing the words from the stop words list: 'no', 'nor', 'not'\n",
    "# <br /><br /> ==> after the above steps, we are getting \"br br\"\n",
    "# we are including them into stop words list\n",
    "# instead of <br /> if we have <br/> these tags would have revmoved in the 1st step\n",
    "\n",
    "stopwords= set(['br', 'the', 'i', 'me', 'my', 'myself', 'we', 'our', 'ours', 'ourselves', 'you', \"you're\", \"you've\",\\\n",
    "            \"you'll\", \"you'd\", 'your', 'yours', 'yourself', 'yourselves', 'he', 'him', 'his', 'himself', \\\n",
    "            'she', \"she's\", 'her', 'hers', 'herself', 'it', \"it's\", 'its', 'itself', 'they', 'them', 'their',\\\n",
    "            'theirs', 'themselves', 'what', 'which', 'who', 'whom', 'this', 'that', \"that'll\", 'these', 'those', \\\n",
    "            'am', 'is', 'are', 'was', 'were', 'be', 'been', 'being', 'have', 'has', 'had', 'having', 'do', 'does', \\\n",
    "            'did', 'doing', 'a', 'an', 'the', 'and', 'but', 'if', 'or', 'because', 'as', 'until', 'while', 'of', \\\n",
    "            'at', 'by', 'for', 'with', 'about', 'against', 'between', 'into', 'through', 'during', 'before', 'after',\\\n",
    "            'above', 'below', 'to', 'from', 'up', 'down', 'in', 'out', 'on', 'off', 'over', 'under', 'again', 'further',\\\n",
    "            'then', 'once', 'here', 'there', 'when', 'where', 'why', 'how', 'all', 'any', 'both', 'each', 'few', 'more',\\\n",
    "            'most', 'other', 'some', 'such', 'only', 'own', 'same', 'so', 'than', 'too', 'very', \\\n",
    "            's', 't', 'can', 'will', 'just', 'don', \"don't\", 'should', \"should've\", 'now', 'd', 'll', 'm', 'o', 're', \\\n",
    "            've', 'y', 'ain', 'aren', \"aren't\", 'couldn', \"couldn't\", 'didn', \"didn't\", 'doesn', \"doesn't\", 'hadn',\\\n",
    "            \"hadn't\", 'hasn', \"hasn't\", 'haven', \"haven't\", 'isn', \"isn't\", 'ma', 'mightn', \"mightn't\", 'mustn',\\\n",
    "            \"mustn't\", 'needn', \"needn't\", 'shan', \"shan't\", 'shouldn', \"shouldn't\", 'wasn', \"wasn't\", 'weren', \"weren't\", \\\n",
    "            'won', \"won't\", 'wouldn', \"wouldn't\"])"
   ]
  },
  {
   "cell_type": "code",
   "execution_count": 6,
   "metadata": {},
   "outputs": [
    {
     "name": "stderr",
     "output_type": "stream",
     "text": [
      "100%|██████████| 364171/364171 [01:49<00:00, 3320.65it/s]\n"
     ]
    }
   ],
   "source": [
    "# Combining all the above stundents \n",
    "from tqdm import tqdm\n",
    "preprocessed_reviews = []\n",
    "# tqdm is for printing the status bar\n",
    "for sentance in tqdm(final['Text'].values):\n",
    "    sentance = re.sub(r\"http\\S+\", \"\", sentance)\n",
    "    sentance = BeautifulSoup(sentance, 'lxml').get_text()\n",
    "    sentance = decontracted(sentance)\n",
    "    sentance = re.sub(\"\\S*\\d\\S*\", \"\", sentance).strip()\n",
    "    sentance = re.sub('[^A-Za-z]+', ' ', sentance)\n",
    "    # https://gist.github.com/sebleier/554280\n",
    "    sentance = ' '.join(e.lower() for e in sentance.split() if e.lower() not in stopwords)\n",
    "    preprocessed_reviews.append(sentance.strip())"
   ]
  },
  {
   "cell_type": "code",
   "execution_count": 7,
   "metadata": {},
   "outputs": [
    {
     "data": {
      "text/plain": [
       "'witti littl book make son laugh loud recit car drive along alway sing refrain hes learn whale india droop love new word book introduc silli classic book will bet son still abl recit memori colleg'"
      ]
     },
     "execution_count": 7,
     "metadata": {},
     "output_type": "execute_result"
    }
   ],
   "source": [
    "final['CleanedText'].values[0]"
   ]
  },
  {
   "cell_type": "code",
   "execution_count": 228,
   "metadata": {},
   "outputs": [
    {
     "data": {
      "text/plain": [
       "'witty little book makes son laugh loud recite car driving along always sing refrain learned whales india drooping roses love new words book introduces silliness classic book willing bet son still able recite memory college'"
      ]
     },
     "execution_count": 228,
     "metadata": {},
     "output_type": "execute_result"
    }
   ],
   "source": [
    "preprocessed_reviews[0]"
   ]
  },
  {
   "cell_type": "code",
   "execution_count": 8,
   "metadata": {},
   "outputs": [],
   "source": [
    "final['preprocessed_reviews']=preprocessed_reviews"
   ]
  },
  {
   "cell_type": "code",
   "execution_count": 3,
   "metadata": {},
   "outputs": [
    {
     "data": {
      "text/html": [
       "<div>\n",
       "<style scoped>\n",
       "    .dataframe tbody tr th:only-of-type {\n",
       "        vertical-align: middle;\n",
       "    }\n",
       "\n",
       "    .dataframe tbody tr th {\n",
       "        vertical-align: top;\n",
       "    }\n",
       "\n",
       "    .dataframe thead th {\n",
       "        text-align: right;\n",
       "    }\n",
       "</style>\n",
       "<table border=\"1\" class=\"dataframe\">\n",
       "  <thead>\n",
       "    <tr style=\"text-align: right;\">\n",
       "      <th></th>\n",
       "      <th>index</th>\n",
       "      <th>Id</th>\n",
       "      <th>ProductId</th>\n",
       "      <th>UserId</th>\n",
       "      <th>ProfileName</th>\n",
       "      <th>HelpfulnessNumerator</th>\n",
       "      <th>HelpfulnessDenominator</th>\n",
       "      <th>Score</th>\n",
       "      <th>Time</th>\n",
       "      <th>Summary</th>\n",
       "      <th>Text</th>\n",
       "      <th>CleanedText</th>\n",
       "    </tr>\n",
       "  </thead>\n",
       "  <tbody>\n",
       "    <tr>\n",
       "      <th>0</th>\n",
       "      <td>138706</td>\n",
       "      <td>150524</td>\n",
       "      <td>0006641040</td>\n",
       "      <td>ACITT7DI6IDDL</td>\n",
       "      <td>shari zychinski</td>\n",
       "      <td>0</td>\n",
       "      <td>0</td>\n",
       "      <td>1</td>\n",
       "      <td>939340800</td>\n",
       "      <td>EVERY book is educational</td>\n",
       "      <td>this witty little book makes my son laugh at l...</td>\n",
       "      <td>witti littl book make son laugh loud recit car...</td>\n",
       "    </tr>\n",
       "    <tr>\n",
       "      <th>1</th>\n",
       "      <td>138688</td>\n",
       "      <td>150506</td>\n",
       "      <td>0006641040</td>\n",
       "      <td>A2IW4PEEKO2R0U</td>\n",
       "      <td>Tracy</td>\n",
       "      <td>1</td>\n",
       "      <td>1</td>\n",
       "      <td>1</td>\n",
       "      <td>1194739200</td>\n",
       "      <td>Love the book, miss the hard cover version</td>\n",
       "      <td>I grew up reading these Sendak books, and watc...</td>\n",
       "      <td>grew read sendak book watch realli rosi movi i...</td>\n",
       "    </tr>\n",
       "    <tr>\n",
       "      <th>2</th>\n",
       "      <td>138689</td>\n",
       "      <td>150507</td>\n",
       "      <td>0006641040</td>\n",
       "      <td>A1S4A3IQ2MU7V4</td>\n",
       "      <td>sally sue \"sally sue\"</td>\n",
       "      <td>1</td>\n",
       "      <td>1</td>\n",
       "      <td>1</td>\n",
       "      <td>1191456000</td>\n",
       "      <td>chicken soup with rice months</td>\n",
       "      <td>This is a fun way for children to learn their ...</td>\n",
       "      <td>fun way children learn month year learn poem t...</td>\n",
       "    </tr>\n",
       "    <tr>\n",
       "      <th>3</th>\n",
       "      <td>138690</td>\n",
       "      <td>150508</td>\n",
       "      <td>0006641040</td>\n",
       "      <td>AZGXZ2UUK6X</td>\n",
       "      <td>Catherine Hallberg \"(Kate)\"</td>\n",
       "      <td>1</td>\n",
       "      <td>1</td>\n",
       "      <td>1</td>\n",
       "      <td>1076025600</td>\n",
       "      <td>a good swingy rhythm for reading aloud</td>\n",
       "      <td>This is a great little book to read aloud- it ...</td>\n",
       "      <td>great littl book read nice rhythm well good re...</td>\n",
       "    </tr>\n",
       "    <tr>\n",
       "      <th>4</th>\n",
       "      <td>138691</td>\n",
       "      <td>150509</td>\n",
       "      <td>0006641040</td>\n",
       "      <td>A3CMRKGE0P909G</td>\n",
       "      <td>Teresa</td>\n",
       "      <td>3</td>\n",
       "      <td>4</td>\n",
       "      <td>1</td>\n",
       "      <td>1018396800</td>\n",
       "      <td>A great way to learn the months</td>\n",
       "      <td>This is a book of poetry about the months of t...</td>\n",
       "      <td>book poetri month year goe month cute littl po...</td>\n",
       "    </tr>\n",
       "  </tbody>\n",
       "</table>\n",
       "</div>"
      ],
      "text/plain": [
       "    index      Id   ProductId          UserId                  ProfileName  \\\n",
       "0  138706  150524  0006641040   ACITT7DI6IDDL              shari zychinski   \n",
       "1  138688  150506  0006641040  A2IW4PEEKO2R0U                        Tracy   \n",
       "2  138689  150507  0006641040  A1S4A3IQ2MU7V4        sally sue \"sally sue\"   \n",
       "3  138690  150508  0006641040     AZGXZ2UUK6X  Catherine Hallberg \"(Kate)\"   \n",
       "4  138691  150509  0006641040  A3CMRKGE0P909G                       Teresa   \n",
       "\n",
       "   HelpfulnessNumerator  HelpfulnessDenominator  Score        Time  \\\n",
       "0                     0                       0      1   939340800   \n",
       "1                     1                       1      1  1194739200   \n",
       "2                     1                       1      1  1191456000   \n",
       "3                     1                       1      1  1076025600   \n",
       "4                     3                       4      1  1018396800   \n",
       "\n",
       "                                      Summary  \\\n",
       "0                   EVERY book is educational   \n",
       "1  Love the book, miss the hard cover version   \n",
       "2               chicken soup with rice months   \n",
       "3      a good swingy rhythm for reading aloud   \n",
       "4             A great way to learn the months   \n",
       "\n",
       "                                                Text  \\\n",
       "0  this witty little book makes my son laugh at l...   \n",
       "1  I grew up reading these Sendak books, and watc...   \n",
       "2  This is a fun way for children to learn their ...   \n",
       "3  This is a great little book to read aloud- it ...   \n",
       "4  This is a book of poetry about the months of t...   \n",
       "\n",
       "                                         CleanedText  \n",
       "0  witti littl book make son laugh loud recit car...  \n",
       "1  grew read sendak book watch realli rosi movi i...  \n",
       "2  fun way children learn month year learn poem t...  \n",
       "3  great littl book read nice rhythm well good re...  \n",
       "4  book poetri month year goe month cute littl po...  "
      ]
     },
     "execution_count": 3,
     "metadata": {},
     "output_type": "execute_result"
    }
   ],
   "source": [
    "final.head()"
   ]
  },
  {
   "cell_type": "code",
   "execution_count": 5,
   "metadata": {},
   "outputs": [
    {
     "name": "stdout",
     "output_type": "stream",
     "text": [
      "(364171, 12)\n",
      "(364171,)\n"
     ]
    },
    {
     "data": {
      "text/html": [
       "<div>\n",
       "<style scoped>\n",
       "    .dataframe tbody tr th:only-of-type {\n",
       "        vertical-align: middle;\n",
       "    }\n",
       "\n",
       "    .dataframe tbody tr th {\n",
       "        vertical-align: top;\n",
       "    }\n",
       "\n",
       "    .dataframe thead th {\n",
       "        text-align: right;\n",
       "    }\n",
       "</style>\n",
       "<table border=\"1\" class=\"dataframe\">\n",
       "  <thead>\n",
       "    <tr style=\"text-align: right;\">\n",
       "      <th></th>\n",
       "      <th>index</th>\n",
       "      <th>Id</th>\n",
       "      <th>ProductId</th>\n",
       "      <th>UserId</th>\n",
       "      <th>ProfileName</th>\n",
       "      <th>HelpfulnessNumerator</th>\n",
       "      <th>HelpfulnessDenominator</th>\n",
       "      <th>Score</th>\n",
       "      <th>Time</th>\n",
       "      <th>Summary</th>\n",
       "      <th>Text</th>\n",
       "      <th>CleanedText</th>\n",
       "    </tr>\n",
       "  </thead>\n",
       "  <tbody>\n",
       "    <tr>\n",
       "      <th>0</th>\n",
       "      <td>138706</td>\n",
       "      <td>150524</td>\n",
       "      <td>0006641040</td>\n",
       "      <td>ACITT7DI6IDDL</td>\n",
       "      <td>shari zychinski</td>\n",
       "      <td>0</td>\n",
       "      <td>0</td>\n",
       "      <td>1</td>\n",
       "      <td>1999-10-08</td>\n",
       "      <td>EVERY book is educational</td>\n",
       "      <td>this witty little book makes my son laugh at l...</td>\n",
       "      <td>witti littl book make son laugh loud recit car...</td>\n",
       "    </tr>\n",
       "    <tr>\n",
       "      <th>30</th>\n",
       "      <td>138683</td>\n",
       "      <td>150501</td>\n",
       "      <td>0006641040</td>\n",
       "      <td>AJ46FKXOVC7NR</td>\n",
       "      <td>Nicholas A Mesiano</td>\n",
       "      <td>2</td>\n",
       "      <td>2</td>\n",
       "      <td>1</td>\n",
       "      <td>1999-10-25</td>\n",
       "      <td>This whole series is great way to spend time w...</td>\n",
       "      <td>I can remember seeing the show when it aired o...</td>\n",
       "      <td>rememb see show air televis year ago child sis...</td>\n",
       "    </tr>\n",
       "    <tr>\n",
       "      <th>424</th>\n",
       "      <td>417839</td>\n",
       "      <td>451856</td>\n",
       "      <td>B00004CXX9</td>\n",
       "      <td>AIUWLEQ1ADEG5</td>\n",
       "      <td>Elizabeth Medina</td>\n",
       "      <td>0</td>\n",
       "      <td>0</td>\n",
       "      <td>1</td>\n",
       "      <td>1999-12-02</td>\n",
       "      <td>Entertainingl Funny!</td>\n",
       "      <td>Beetlejuice is a well written movie ..... ever...</td>\n",
       "      <td>beetlejuic well written movi everyth excel act...</td>\n",
       "    </tr>\n",
       "    <tr>\n",
       "      <th>330</th>\n",
       "      <td>346055</td>\n",
       "      <td>374359</td>\n",
       "      <td>B00004CI84</td>\n",
       "      <td>A344SMIA5JECGM</td>\n",
       "      <td>Vincent P. Ross</td>\n",
       "      <td>1</td>\n",
       "      <td>2</td>\n",
       "      <td>1</td>\n",
       "      <td>1999-12-06</td>\n",
       "      <td>A modern day fairy tale</td>\n",
       "      <td>A twist of rumplestiskin captured on film, sta...</td>\n",
       "      <td>twist rumplestiskin captur film star michael k...</td>\n",
       "    </tr>\n",
       "    <tr>\n",
       "      <th>423</th>\n",
       "      <td>417838</td>\n",
       "      <td>451855</td>\n",
       "      <td>B00004CXX9</td>\n",
       "      <td>AJH6LUC1UT1ON</td>\n",
       "      <td>The Phantom of the Opera</td>\n",
       "      <td>0</td>\n",
       "      <td>0</td>\n",
       "      <td>1</td>\n",
       "      <td>2000-01-03</td>\n",
       "      <td>FANTASTIC!</td>\n",
       "      <td>Beetlejuice is an excellent and funny movie. K...</td>\n",
       "      <td>beetlejuic excel funni movi keaton hilari wack...</td>\n",
       "    </tr>\n",
       "  </tbody>\n",
       "</table>\n",
       "</div>"
      ],
      "text/plain": [
       "      index      Id   ProductId          UserId               ProfileName  \\\n",
       "0    138706  150524  0006641040   ACITT7DI6IDDL           shari zychinski   \n",
       "30   138683  150501  0006641040   AJ46FKXOVC7NR        Nicholas A Mesiano   \n",
       "424  417839  451856  B00004CXX9   AIUWLEQ1ADEG5          Elizabeth Medina   \n",
       "330  346055  374359  B00004CI84  A344SMIA5JECGM           Vincent P. Ross   \n",
       "423  417838  451855  B00004CXX9   AJH6LUC1UT1ON  The Phantom of the Opera   \n",
       "\n",
       "     HelpfulnessNumerator  HelpfulnessDenominator  Score       Time  \\\n",
       "0                       0                       0      1 1999-10-08   \n",
       "30                      2                       2      1 1999-10-25   \n",
       "424                     0                       0      1 1999-12-02   \n",
       "330                     1                       2      1 1999-12-06   \n",
       "423                     0                       0      1 2000-01-03   \n",
       "\n",
       "                                               Summary  \\\n",
       "0                            EVERY book is educational   \n",
       "30   This whole series is great way to spend time w...   \n",
       "424                               Entertainingl Funny!   \n",
       "330                            A modern day fairy tale   \n",
       "423                                         FANTASTIC!   \n",
       "\n",
       "                                                  Text  \\\n",
       "0    this witty little book makes my son laugh at l...   \n",
       "30   I can remember seeing the show when it aired o...   \n",
       "424  Beetlejuice is a well written movie ..... ever...   \n",
       "330  A twist of rumplestiskin captured on film, sta...   \n",
       "423  Beetlejuice is an excellent and funny movie. K...   \n",
       "\n",
       "                                           CleanedText  \n",
       "0    witti littl book make son laugh loud recit car...  \n",
       "30   rememb see show air televis year ago child sis...  \n",
       "424  beetlejuic well written movi everyth excel act...  \n",
       "330  twist rumplestiskin captur film star michael k...  \n",
       "423  beetlejuic excel funni movi keaton hilari wack...  "
      ]
     },
     "execution_count": 5,
     "metadata": {},
     "output_type": "execute_result"
    }
   ],
   "source": [
    "\n",
    "\n",
    "final[\"Time\"] = pd.to_datetime(final[\"Time\"] , unit = \"s\")\n",
    "reviews_timesorted = final.sort_values(by = \"Time\")\n",
    "print (reviews_timesorted.shape)\n",
    "reviews_timesorted_score = reviews_timesorted[\"Score\"]\n",
    "print (reviews_timesorted_score.shape)\n",
    "reviews_timesorted.head(5)"
   ]
  },
  {
   "cell_type": "code",
   "execution_count": 6,
   "metadata": {},
   "outputs": [
    {
     "name": "stdout",
     "output_type": "stream",
     "text": [
      "(100000, 12)\n",
      "(100000,)\n"
     ]
    },
    {
     "data": {
      "text/html": [
       "<div>\n",
       "<style scoped>\n",
       "    .dataframe tbody tr th:only-of-type {\n",
       "        vertical-align: middle;\n",
       "    }\n",
       "\n",
       "    .dataframe tbody tr th {\n",
       "        vertical-align: top;\n",
       "    }\n",
       "\n",
       "    .dataframe thead th {\n",
       "        text-align: right;\n",
       "    }\n",
       "</style>\n",
       "<table border=\"1\" class=\"dataframe\">\n",
       "  <thead>\n",
       "    <tr style=\"text-align: right;\">\n",
       "      <th></th>\n",
       "      <th>index</th>\n",
       "      <th>Id</th>\n",
       "      <th>ProductId</th>\n",
       "      <th>UserId</th>\n",
       "      <th>ProfileName</th>\n",
       "      <th>HelpfulnessNumerator</th>\n",
       "      <th>HelpfulnessDenominator</th>\n",
       "      <th>Score</th>\n",
       "      <th>Time</th>\n",
       "      <th>Summary</th>\n",
       "      <th>Text</th>\n",
       "      <th>CleanedText</th>\n",
       "    </tr>\n",
       "  </thead>\n",
       "  <tbody>\n",
       "    <tr>\n",
       "      <th>0</th>\n",
       "      <td>138706</td>\n",
       "      <td>150524</td>\n",
       "      <td>0006641040</td>\n",
       "      <td>ACITT7DI6IDDL</td>\n",
       "      <td>shari zychinski</td>\n",
       "      <td>0</td>\n",
       "      <td>0</td>\n",
       "      <td>1</td>\n",
       "      <td>1999-10-08</td>\n",
       "      <td>EVERY book is educational</td>\n",
       "      <td>this witty little book makes my son laugh at l...</td>\n",
       "      <td>witti littl book make son laugh loud recit car...</td>\n",
       "    </tr>\n",
       "    <tr>\n",
       "      <th>30</th>\n",
       "      <td>138683</td>\n",
       "      <td>150501</td>\n",
       "      <td>0006641040</td>\n",
       "      <td>AJ46FKXOVC7NR</td>\n",
       "      <td>Nicholas A Mesiano</td>\n",
       "      <td>2</td>\n",
       "      <td>2</td>\n",
       "      <td>1</td>\n",
       "      <td>1999-10-25</td>\n",
       "      <td>This whole series is great way to spend time w...</td>\n",
       "      <td>I can remember seeing the show when it aired o...</td>\n",
       "      <td>rememb see show air televis year ago child sis...</td>\n",
       "    </tr>\n",
       "    <tr>\n",
       "      <th>424</th>\n",
       "      <td>417839</td>\n",
       "      <td>451856</td>\n",
       "      <td>B00004CXX9</td>\n",
       "      <td>AIUWLEQ1ADEG5</td>\n",
       "      <td>Elizabeth Medina</td>\n",
       "      <td>0</td>\n",
       "      <td>0</td>\n",
       "      <td>1</td>\n",
       "      <td>1999-12-02</td>\n",
       "      <td>Entertainingl Funny!</td>\n",
       "      <td>Beetlejuice is a well written movie ..... ever...</td>\n",
       "      <td>beetlejuic well written movi everyth excel act...</td>\n",
       "    </tr>\n",
       "    <tr>\n",
       "      <th>330</th>\n",
       "      <td>346055</td>\n",
       "      <td>374359</td>\n",
       "      <td>B00004CI84</td>\n",
       "      <td>A344SMIA5JECGM</td>\n",
       "      <td>Vincent P. Ross</td>\n",
       "      <td>1</td>\n",
       "      <td>2</td>\n",
       "      <td>1</td>\n",
       "      <td>1999-12-06</td>\n",
       "      <td>A modern day fairy tale</td>\n",
       "      <td>A twist of rumplestiskin captured on film, sta...</td>\n",
       "      <td>twist rumplestiskin captur film star michael k...</td>\n",
       "    </tr>\n",
       "    <tr>\n",
       "      <th>423</th>\n",
       "      <td>417838</td>\n",
       "      <td>451855</td>\n",
       "      <td>B00004CXX9</td>\n",
       "      <td>AJH6LUC1UT1ON</td>\n",
       "      <td>The Phantom of the Opera</td>\n",
       "      <td>0</td>\n",
       "      <td>0</td>\n",
       "      <td>1</td>\n",
       "      <td>2000-01-03</td>\n",
       "      <td>FANTASTIC!</td>\n",
       "      <td>Beetlejuice is an excellent and funny movie. K...</td>\n",
       "      <td>beetlejuic excel funni movi keaton hilari wack...</td>\n",
       "    </tr>\n",
       "  </tbody>\n",
       "</table>\n",
       "</div>"
      ],
      "text/plain": [
       "      index      Id   ProductId          UserId               ProfileName  \\\n",
       "0    138706  150524  0006641040   ACITT7DI6IDDL           shari zychinski   \n",
       "30   138683  150501  0006641040   AJ46FKXOVC7NR        Nicholas A Mesiano   \n",
       "424  417839  451856  B00004CXX9   AIUWLEQ1ADEG5          Elizabeth Medina   \n",
       "330  346055  374359  B00004CI84  A344SMIA5JECGM           Vincent P. Ross   \n",
       "423  417838  451855  B00004CXX9   AJH6LUC1UT1ON  The Phantom of the Opera   \n",
       "\n",
       "     HelpfulnessNumerator  HelpfulnessDenominator  Score       Time  \\\n",
       "0                       0                       0      1 1999-10-08   \n",
       "30                      2                       2      1 1999-10-25   \n",
       "424                     0                       0      1 1999-12-02   \n",
       "330                     1                       2      1 1999-12-06   \n",
       "423                     0                       0      1 2000-01-03   \n",
       "\n",
       "                                               Summary  \\\n",
       "0                            EVERY book is educational   \n",
       "30   This whole series is great way to spend time w...   \n",
       "424                               Entertainingl Funny!   \n",
       "330                            A modern day fairy tale   \n",
       "423                                         FANTASTIC!   \n",
       "\n",
       "                                                  Text  \\\n",
       "0    this witty little book makes my son laugh at l...   \n",
       "30   I can remember seeing the show when it aired o...   \n",
       "424  Beetlejuice is a well written movie ..... ever...   \n",
       "330  A twist of rumplestiskin captured on film, sta...   \n",
       "423  Beetlejuice is an excellent and funny movie. K...   \n",
       "\n",
       "                                           CleanedText  \n",
       "0    witti littl book make son laugh loud recit car...  \n",
       "30   rememb see show air televis year ago child sis...  \n",
       "424  beetlejuic well written movi everyth excel act...  \n",
       "330  twist rumplestiskin captur film star michael k...  \n",
       "423  beetlejuic excel funni movi keaton hilari wack...  "
      ]
     },
     "execution_count": 6,
     "metadata": {},
     "output_type": "execute_result"
    }
   ],
   "source": [
    "\n",
    "# reviews_100k = reviews_timesorted.head(100000)\n",
    "reviews_100k = reviews_timesorted.head(100000)\n",
    "\n",
    "print (reviews_100k.shape)\n",
    "\n",
    "\n",
    "reviews_100k_score = reviews_100k[\"Score\"]\n",
    "print (reviews_100k_score.shape)\n",
    "\n",
    "reviews_100k.head()\n",
    "\n"
   ]
  },
  {
   "cell_type": "markdown",
   "metadata": {},
   "source": [
    "### Converting words to ids and taking top 5000 words based on the occurrence :"
   ]
  },
  {
   "cell_type": "code",
   "execution_count": 7,
   "metadata": {},
   "outputs": [],
   "source": [
    "from sklearn.feature_extraction.text import CountVectorizer\n",
    "\n",
    "count_vec = CountVectorizer()\n",
    "reviews_vocab = count_vec.fit_transform(reviews_100k['CleanedText'].values)\n"
   ]
  },
  {
   "cell_type": "code",
   "execution_count": 8,
   "metadata": {},
   "outputs": [],
   "source": [
    "#Reference : https://stackoverflow.com/questions/32194508/convert-a-list-of-words-to-a-list-of-integers-in-scikit-learn\n",
    "\n",
    "word_count =  list(zip(count_vec.get_feature_names(),\\\n",
    "    np.asarray(reviews_vocab.sum(axis=0)).ravel()))\n",
    "\n",
    "word_count_sorted = sorted(word_count , key=lambda x:x[1] , reverse=True)"
   ]
  },
  {
   "cell_type": "code",
   "execution_count": 9,
   "metadata": {},
   "outputs": [
    {
     "name": "stdout",
     "output_type": "stream",
     "text": [
      "Taking top 5000 words from the vocab\n"
     ]
    }
   ],
   "source": [
    "print (\"Taking top 5000 words from the vocab\")\n",
    "word_count_sorted = word_count_sorted[:5000]"
   ]
  },
  {
   "cell_type": "code",
   "execution_count": 10,
   "metadata": {},
   "outputs": [],
   "source": [
    "word_count_sorted = { j[0]:i  for i,j in enumerate(word_count_sorted,1) }"
   ]
  },
  {
   "cell_type": "code",
   "execution_count": 11,
   "metadata": {},
   "outputs": [
    {
     "data": {
      "text/plain": [
       "5000"
      ]
     },
     "execution_count": 11,
     "metadata": {},
     "output_type": "execute_result"
    }
   ],
   "source": [
    "len(word_count_sorted)"
   ]
  },
  {
   "cell_type": "code",
   "execution_count": 12,
   "metadata": {},
   "outputs": [
    {
     "data": {
      "text/plain": [
       "dict_items([('like', 1), ('tast', 2), ('good', 3), ('flavor', 4), ('tea', 5), ('great', 6), ('product', 7), ('use', 8), ('one', 9), ('love', 10), ('tri', 11), ('make', 12), ('get', 13), ('coffe', 14), ('would', 15), ('food', 16), ('buy', 17), ('time', 18), ('eat', 19), ('amazon', 20), ('realli', 21), ('best', 22), ('find', 23), ('also', 24), ('dont', 25), ('order', 26), ('much', 27), ('price', 28), ('littl', 29), ('even', 30), ('drink', 31), ('ive', 32), ('store', 33), ('bag', 34), ('well', 35), ('mix', 36), ('better', 37), ('chocol', 38), ('sugar', 39), ('box', 40), ('year', 41), ('dog', 42), ('recommend', 43), ('day', 44), ('sweet', 45), ('found', 46), ('high', 47), ('first', 48), ('want', 49), ('look', 50), ('cup', 51), ('treat', 52), ('give', 53), ('enjoy', 54), ('brand', 55), ('water', 56), ('way', 57), ('think', 58), ('packag', 59), ('made', 60), ('delici', 61), ('add', 62), ('purchas', 63), ('favorit', 64), ('work', 65), ('bought', 66), ('nice', 67), ('two', 68), ('snack', 69), ('thing', 70), ('know', 71), ('sinc', 72), ('bar', 73), ('need', 74), ('mani', 75), ('milk', 76), ('ship', 77), ('pack', 78), ('differ', 79), ('free', 80), ('come', 81), ('keep', 82), ('bit', 83), ('could', 84), ('say', 85), ('wonder', 86), ('hot', 87), ('lot', 88), ('cant', 89), ('organ', 90), ('still', 91), ('perfect', 92), ('review', 93), ('cat', 94), ('never', 95), ('take', 96), ('fresh', 97), ('ever', 98), ('stuff', 99), ('natur', 100), ('without', 101), ('sauc', 102), ('everi', 103), ('cook', 104), ('ingredi', 105), ('alway', 106), ('local', 107), ('got', 108), ('easi', 109), ('healthi', 110), ('cooki', 111), ('oil', 112), ('right', 113), ('put', 114), ('green', 115), ('someth', 116), ('whole', 117), ('qualiti', 118), ('hard', 119), ('enough', 120), ('seem', 121), ('contain', 122), ('rice', 123), ('back', 124), ('ad', 125), ('regular', 126), ('excel', 127), ('candi', 128), ('salt', 129), ('doesnt', 130), ('less', 131), ('tasti', 132), ('calori', 133), ('dri', 134), ('cereal', 135), ('last', 136), ('small', 137), ('serv', 138), ('fruit', 139), ('long', 140), ('quick', 141), ('howev', 142), ('didnt', 143), ('groceri', 144), ('actual', 145), ('though', 146), ('far', 147), ('size', 148), ('see', 149), ('sure', 150), ('month', 151), ('feel', 152), ('old', 153), ('quit', 154), ('thank', 155), ('chip', 156), ('strong', 157), ('famili', 158), ('peopl', 159), ('kid', 160), ('bread', 161), ('textur', 162), ('juic', 163), ('definit', 164), ('help', 165), ('real', 166), ('bottl', 167), ('big', 168), ('start', 169), ('chicken', 170), ('item', 171), ('problem', 172), ('bean', 173), ('fat', 174), ('case', 175), ('friend', 176), ('anoth', 177), ('bad', 178), ('butter', 179), ('soup', 180), ('smell', 181), ('happi', 182), ('blend', 183), ('chees', 184), ('open', 185), ('thought', 186), ('diet', 187), ('almost', 188), ('can', 189), ('may', 190), ('usual', 191), ('pretti', 192), ('compani', 193), ('worth', 194), ('new', 195), ('low', 196), ('top', 197), ('bake', 198), ('gluten', 199), ('avail', 200), ('sever', 201), ('black', 202), ('pasta', 203), ('go', 204), ('per', 205), ('recip', 206), ('anyth', 207), ('varieti', 208), ('light', 209), ('expens', 210), ('amount', 211), ('theyr', 212), ('around', 213), ('minut', 214), ('peanut', 215), ('receiv', 216), ('that', 217), ('home', 218), ('nut', 219), ('morn', 220), ('arriv', 221), ('week', 222), ('meal', 223), ('health', 224), ('ice', 225), ('chew', 226), ('kind', 227), ('protein', 228), ('star', 229), ('reason', 230), ('prefer', 231), ('syrup', 232), ('disappoint', 233), ('full', 234), ('husband', 235), ('wont', 236), ('gift', 237), ('save', 238), ('pleas', 239), ('spice', 240), ('dark', 241), ('expect', 242), ('half', 243), ('especi', 244), ('came', 245), ('carri', 246), ('cost', 247), ('breakfast', 248), ('powder', 249), ('bitter', 250), ('your', 251), ('white', 252), ('absolut', 253), ('away', 254), ('hand', 255), ('abl', 256), ('honey', 257), ('probabl', 258), ('fill', 259), ('brew', 260), ('piec', 261), ('roast', 262), ('live', 263), ('leav', 264), ('said', 265), ('cream', 266), ('vanilla', 267), ('might', 268), ('extra', 269), ('corn', 270), ('let', 271), ('instead', 272), ('rich', 273), ('place', 274), ('call', 275), ('compar', 276), ('ill', 277), ('cake', 278), ('sweeten', 279), ('larg', 280), ('three', 281), ('fact', 282), ('read', 283), ('noth', 284), ('coconut', 285), ('surpris', 286), ('wheat', 287), ('isnt', 288), ('red', 289), ('deal', 290), ('market', 291), ('hope', 292), ('cracker', 293), ('money', 294), ('type', 295), ('season', 296), ('care', 297), ('satisfi', 298), ('least', 299), ('fine', 300), ('meat', 301), ('soda', 302), ('wish', 303), ('other', 304), ('jar', 305), ('smooth', 306), ('amaz', 307), ('ago', 308), ('decid', 309), ('although', 310), ('yet', 311), ('slight', 312), ('coupl', 313), ('end', 314), ('anyon', 315), ('next', 316), ('second', 317), ('turn', 318), ('pepper', 319), ('addit', 320), ('plus', 321), ('youll', 322), ('hous', 323), ('either', 324), ('must', 325), ('fast', 326), ('son', 327), ('chang', 328), ('longer', 329), ('run', 330), ('person', 331), ('spici', 332), ('list', 333), ('color', 334), ('offer', 335), ('etc', 336), ('everyon', 337), ('stop', 338), ('altern', 339), ('dish', 340), ('gave', 341), ('cherri', 342), ('glad', 343), ('went', 344), ('sell', 345), ('els', 346), ('includ', 347), ('fiber', 348), ('mayb', 349), ('noodl', 350), ('orang', 351), ('packet', 352), ('tell', 353), ('origin', 354), ('salad', 355), ('stock', 356), ('everyth', 357), ('almond', 358), ('appl', 359), ('choic', 360), ('oliv', 361), ('side', 362), ('mouth', 363), ('version', 364), ('part', 365), ('fan', 366), ('heat', 367), ('believ', 368), ('sometim', 369), ('cheaper', 370), ('stick', 371), ('cold', 372), ('seed', 373), ('soft', 374), ('notic', 375), ('flour', 376), ('past', 377), ('soy', 378), ('yummi', 379), ('crunchi', 380), ('conveni', 381), ('hour', 382), ('experi', 383), ('pod', 384), ('oatmeal', 385), ('valu', 386), ('couldnt', 387), ('cut', 388), ('brown', 389), ('pay', 390), ('rather', 391), ('special', 392), ('gum', 393), ('recent', 394), ('took', 395), ('popcorn', 396), ('weight', 397), ('tomato', 398), ('life', 399), ('potato', 400), ('bowl', 401), ('normal', 402), ('often', 403), ('daughter', 404), ('energi', 405), ('lemon', 406), ('espresso', 407), ('nutrit', 408), ('onlin', 409), ('ounc', 410), ('cinnamon', 411), ('close', 412), ('clean', 413), ('switch', 414), ('total', 415), ('pound', 416), ('egg', 417), ('ask', 418), ('direct', 419), ('grain', 420), ('granola', 421), ('babi', 422), ('exact', 423), ('strawberri', 424), ('havent', 425), ('result', 426), ('prepar', 427), ('mean', 428), ('easili', 429), ('base', 430), ('consist', 431), ('wasnt', 432), ('plain', 433), ('caffein', 434), ('machin', 435), ('addict', 436), ('bite', 437), ('feed', 438), ('final', 439), ('goe', 440), ('set', 441), ('pop', 442), ('artifici', 443), ('servic', 444), ('simpli', 445), ('mild', 446), ('vitamin', 447), ('bodi', 448), ('carb', 449), ('pot', 450), ('cours', 451), ('instant', 452), ('cannot', 453), ('combin', 454), ('night', 455), ('date', 456), ('salti', 457), ('label', 458), ('microwav', 459), ('becom', 460), ('wife', 461), ('lunch', 462), ('near', 463), ('beef', 464), ('teeth', 465), ('wait', 466), ('particular', 467), ('complet', 468), ('stay', 469), ('replac', 470), ('process', 471), ('fantast', 472), ('sodium', 473), ('substitut', 474), ('ground', 475), ('search', 476), ('shop', 477), ('line', 478), ('super', 479), ('cocoa', 480), ('pick', 481), ('com', 482), ('wouldnt', 483), ('awesom', 484), ('ginger', 485), ('similar', 486), ('certain', 487), ('aroma', 488), ('effect', 489), ('bulk', 490), ('plastic', 491), ('name', 492), ('consid', 493), ('pleasant', 494), ('continu', 495), ('benefit', 496), ('suggest', 497), ('rememb', 498), ('veget', 499), ('content', 500), ('chewi', 501), ('check', 502), ('world', 503), ('bring', 504), ('chai', 505), ('there', 506), ('except', 507), ('pancak', 508), ('rate', 509), ('fair', 510), ('delight', 511), ('deliv', 512), ('four', 513), ('custom', 514), ('finish', 515), ('guess', 516), ('gram', 517), ('oat', 518), ('pure', 519), ('eaten', 520), ('point', 521), ('deliveri', 522), ('fish', 523), ('extrem', 524), ('christma', 525), ('state', 526), ('wrong', 527), ('discov', 528), ('daili', 529), ('berri', 530), ('sit', 531), ('pill', 532), ('smaller', 533), ('along', 534), ('individu', 535), ('left', 536), ('yes', 537), ('pet', 538), ('someon', 539), ('overal', 540), ('huge', 541), ('formula', 542), ('gummi', 543), ('decaf', 544), ('note', 545), ('provid', 546), ('bold', 547), ('alreadi', 548), ('area', 549), ('raw', 550), ('jerki', 551), ('carbon', 552), ('refresh', 553), ('supermarket', 554), ('entir', 555), ('follow', 556), ('toy', 557), ('mint', 558), ('acid', 559), ('hit', 560), ('idea', 561), ('dinner', 562), ('given', 563), ('later', 564), ('true', 565), ('interest', 566), ('mine', 567), ('singl', 568), ('insid', 569), ('chili', 570), ('aftertast', 571), ('french', 572), ('glass', 573), ('licoric', 574), ('sent', 575), ('wast', 576), ('coat', 577), ('gone', 578), ('truli', 579), ('sold', 580), ('thick', 581), ('share', 582), ('saw', 583), ('beverag', 584), ('garlic', 585), ('pour', 586), ('beat', 587), ('preserv', 588), ('allergi', 589), ('roll', 590), ('sale', 591), ('dress', 592), ('weve', 593), ('togeth', 594), ('starbuck', 595), ('watch', 596), ('restaur', 597), ('fun', 598), ('creami', 599), ('consum', 600), ('import', 601), ('maker', 602), ('miss', 603), ('liquid', 604), ('soon', 605), ('issu', 606), ('boil', 607), ('sour', 608), ('done', 609), ('general', 610), ('sourc', 611), ('cover', 612), ('rest', 613), ('caus', 614), ('due', 615), ('throw', 616), ('ate', 617), ('anyway', 618), ('crunch', 619), ('hint', 620), ('hold', 621), ('mind', 622), ('larger', 623), ('arent', 624), ('five', 625), ('break', 626), ('herb', 627), ('option', 628), ('produc', 629), ('clear', 630), ('balanc', 631), ('slice', 632), ('melt', 633), ('unfortun', 634), ('suppos', 635), ('veggi', 636), ('simpl', 637), ('plant', 638), ('return', 639), ('stomach', 640), ('difficult', 641), ('vet', 642), ('warm', 643), ('impress', 644), ('lower', 645), ('crave', 646), ('dip', 647), ('drop', 648), ('loos', 649), ('told', 650), ('easier', 651), ('healthier', 652), ('mention', 653), ('anywher', 654), ('wrap', 655), ('within', 656), ('worri', 657), ('batch', 658), ('excit', 659), ('kitchen', 660), ('tradit', 661), ('unlik', 662), ('bone', 663), ('bottom', 664), ('opinion', 665), ('thin', 666), ('picki', 667), ('today', 668), ('shape', 669), ('seen', 670), ('plan', 671), ('banana', 672), ('drinker', 673), ('onion', 674), ('agre', 675), ('hook', 676), ('vegan', 677), ('beauti', 678), ('happen', 679), ('lover', 680), ('level', 681), ('busi', 682), ('allow', 683), ('diabet', 684), ('grow', 685), ('raisin', 686), ('children', 687), ('yogurt', 688), ('possibl', 689), ('toast', 690), ('fri', 691), ('grey', 692), ('avoid', 693), ('figur', 694), ('test', 695), ('websit', 696), ('fit', 697), ('twice', 698), ('blueberri', 699), ('immedi', 700), ('mom', 701), ('tuna', 702), ('crisp', 703), ('none', 704), ('italian', 705), ('subscrib', 706), ('chemic', 707), ('hate', 708), ('stir', 709), ('condit', 710), ('cool', 711), ('anymor', 712), ('refriger', 713), ('sandwich', 714), ('unless', 715), ('show', 716), ('manufactur', 717), ('number', 718), ('browni', 719), ('form', 720), ('moist', 721), ('cheap', 722), ('shake', 723), ('skin', 724), ('digest', 725), ('gourmet', 726), ('matter', 727), ('sort', 728), ('seal', 729), ('tend', 730), ('pie', 731), ('requir', 732), ('vinegar', 733), ('concern', 734), ('sampl', 735), ('medium', 736), ('site', 737), ('blue', 738), ('suppli', 739), ('six', 740), ('tin', 741), ('yum', 742), ('homemad', 743), ('shipment', 744), ('uniqu', 745), ('seller', 746), ('remind', 747), ('send', 748), ('flower', 749), ('perhap', 750), ('wine', 751), ('mother', 752), ('short', 753), ('trip', 754), ('splenda', 755), ('keurig', 756), ('mapl', 757), ('touch', 758), ('basic', 759), ('stand', 760), ('youv', 761), ('biscuit', 762), ('describ', 763), ('earl', 764), ('dessert', 765), ('extract', 766), ('standard', 767), ('wow', 768), ('tart', 769), ('appreci', 770), ('muffin', 771), ('blood', 772), ('bear', 773), ('stevia', 774), ('trap', 775), ('typic', 776), ('previous', 777), ('improv', 778), ('tree', 779), ('main', 780), ('tini', 781), ('travel', 782), ('complaint', 783), ('imagin', 784), ('incred', 785), ('broken', 786), ('expir', 787), ('sprinkl', 788), ('american', 789), ('concentr', 790), ('move', 791), ('steep', 792), ('readi', 793), ('bland', 794), ('mill', 795), ('offic', 796), ('quantiti', 797), ('realiz', 798), ('word', 799), ('stale', 800), ('instruct', 801), ('overpow', 802), ('pizza', 803), ('raspberri', 804), ('count', 805), ('shelf', 806), ('english', 807), ('learn', 808), ('pocket', 809), ('kick', 810), ('whatev', 811), ('visit', 812), ('doubl', 813), ('higher', 814), ('parti', 815), ('portion', 816), ('summer', 817), ('caramel', 818), ('senseo', 819), ('waffl', 820), ('remov', 821), ('research', 822), ('broth', 823), ('thrill', 824), ('otherwis', 825), ('puppi', 826), ('pan', 827), ('most', 828), ('frozen', 829), ('serious', 830), ('sound', 831), ('leaf', 832), ('somewhat', 833), ('dollar', 834), ('straight', 835), ('mess', 836), ('reduc', 837), ('sea', 838), ('spoon', 839), ('decent', 840), ('heavi', 841), ('creat', 842), ('spread', 843), ('cashew', 844), ('weak', 845), ('ball', 846), ('pictur', 847), ('terribl', 848), ('brought', 849), ('grape', 850), ('control', 851), ('tablespoon', 852), ('train', 853), ('subtl', 854), ('system', 855), ('claim', 856), ('flake', 857), ('salmon', 858), ('lose', 859), ('kept', 860), ('mustard', 861), ('charg', 862), ('heart', 863), ('pricey', 864), ('sick', 865), ('curri', 866), ('forward', 867), ('hes', 868), ('chunk', 869), ('job', 870), ('vegetarian', 871), ('knew', 872), ('child', 873), ('age', 874), ('chanc', 875), ('alon', 876), ('inform', 877), ('felt', 878), ('over', 879), ('afternoon', 880), ('celiac', 881), ('aw', 882), ('hazelnut', 883), ('spend', 884), ('increas', 885), ('across', 886), ('room', 887), ('appear', 888), ('fridg', 889), ('heard', 890), ('plenti', 891), ('pantri', 892), ('yeast', 893), ('chop', 894), ('present', 895), ('stronger', 896), ('book', 897), ('burn', 898), ('china', 899), ('fall', 900), ('pretzel', 901), ('crust', 902), ('lack', 903), ('outsid', 904), ('crazi', 905), ('horribl', 906), ('jelli', 907), ('freez', 908), ('door', 909), ('boy', 910), ('various', 911), ('style', 912), ('teaspoon', 913), ('everyday', 914), ('prompt', 915), ('comment', 916), ('grill', 917), ('power', 918), ('relat', 919), ('herbal', 920), ('descript', 921), ('known', 922), ('play', 923), ('premium', 924), ('safe', 925), ('troubl', 926), ('honest', 927), ('smoke', 928), ('school', 929), ('paper', 930), ('pouch', 931), ('quinoa', 932), ('agav', 933), ('late', 934), ('heaven', 935), ('futur', 936), ('understand', 937), ('pass', 938), ('sensit', 939), ('crispi', 940), ('grew', 941), ('paid', 942), ('truffl', 943), ('whether', 944), ('adult', 945), ('nutti', 946), ('guest', 947), ('grind', 948), ('select', 949), ('steak', 950), ('allerg', 951), ('sorri', 952), ('farm', 953), ('tabl', 954), ('indian', 955), ('jasmin', 956), ('wild', 957), ('tip', 958), ('supplement', 959), ('sticki', 960), ('fabul', 961), ('okay', 962), ('write', 963), ('peach', 964), ('crumbl', 965), ('lid', 966), ('eater', 967), ('introduc', 968), ('lime', 969), ('shot', 970), ('lost', 971), ('handl', 972), ('crystal', 973), ('scent', 974), ('equal', 975), ('fix', 976), ('winter', 977), ('upon', 978), ('bob', 979), ('shell', 980), ('mango', 981), ('sip', 982), ('smoothi', 983), ('latt', 984), ('admit', 985), ('advertis', 986), ('nutriti', 987), ('occasion', 988), ('salsa', 989), ('wash', 990), ('holiday', 991), ('remain', 992), ('cholesterol', 993), ('lipton', 994), ('sparkl', 995), ('yellow', 996), ('countri', 997), ('mountain', 998), ('unit', 999), ('anim', 1000), ('solid', 1001), ('poor', 1002), ('stapl', 1003), ('fructos', 1004), ('twine', 1005), ('delic', 1006), ('kit', 1007), ('gotten', 1008), ('root', 1009), ('cranberri', 1010), ('dairi', 1011), ('bud', 1012), ('popular', 1013), ('warn', 1014), ('pamela', 1015), ('tire', 1016), ('breath', 1017), ('guy', 1018), ('overwhelm', 1019), ('pumpkin', 1020), ('current', 1021), ('earth', 1022), ('obvious', 1023), ('fruiti', 1024), ('limit', 1025), ('third', 1026), ('filter', 1027), ('litter', 1028), ('scoop', 1029), ('choos', 1030), ('major', 1031), ('oven', 1032), ('superior', 1033), ('bacon', 1034), ('dissolv', 1035), ('depend', 1036), ('internet', 1037), ('scratch', 1038), ('grab', 1039), ('web', 1040), ('dent', 1041), ('movi', 1042), ('air', 1043), ('gold', 1044), ('intens', 1045), ('pork', 1046), ('pea', 1047), ('timothi', 1048), ('begin', 1049), ('freezer', 1050), ('grown', 1051), ('negat', 1052), ('toss', 1053), ('drank', 1054), ('afford', 1055), ('favor', 1056), ('bunch', 1057), ('frost', 1058), ('damag', 1059), ('flavour', 1060), ('subscript', 1061), ('birthday', 1062), ('diseas', 1063), ('thai', 1064), ('measur', 1065), ('whenev', 1066), ('msg', 1067), ('cheddar', 1068), ('kraft', 1069), ('mug', 1070), ('apart', 1071), ('pull', 1072), ('terrif', 1073), ('bill', 1074), ('car', 1075), ('gravi', 1076), ('mocha', 1077), ('golden', 1078), ('round', 1079), ('eye', 1080), ('garden', 1081), ('human', 1082), ('accord', 1083), ('izz', 1084), ('what', 1085), ('stash', 1086), ('talk', 1087), ('load', 1088), ('mixtur', 1089), ('sardin', 1090), ('sesam', 1091), ('chines', 1092), ('folk', 1093), ('doctor', 1094), ('nasti', 1095), ('separ', 1096), ('becam', 1097), ('grade', 1098), ('shes', 1099), ('tazo', 1100), ('alot', 1101), ('outstand', 1102), ('averag', 1103), ('vendor', 1104), ('joe', 1105), ('wet', 1106), ('turkey', 1107), ('assort', 1108), ('classic', 1109), ('proper', 1110), ('deep', 1111), ('tooth', 1112), ('contact', 1113), ('numi', 1114), ('spaghetti', 1115), ('mushroom', 1116), ('boost', 1117), ('worst', 1118), ('peppermint', 1119), ('rare', 1120), ('distinct', 1121), ('stuck', 1122), ('junk', 1123), ('cent', 1124), ('youd', 1125), ('authent', 1126), ('bigger', 1127), ('basket', 1128), ('hair', 1129), ('kashi', 1130), ('pain', 1131), ('spot', 1132), ('ton', 1133), ('soak', 1134), ('zero', 1135), ('doubt', 1136), ('empti', 1137), ('sad', 1138), ('kitti', 1139), ('bother', 1140), ('mac', 1141), ('respons', 1142), ('sleep', 1143), ('practic', 1144), ('medicin', 1145), ('posit', 1146), ('handi', 1147), ('hesit', 1148), ('weird', 1149), ('post', 1150), ('bubbl', 1151), ('email', 1152), ('enhanc', 1153), ('flax', 1154), ('head', 1155), ('newman', 1156), ('press', 1157), ('cube', 1158), ('creamer', 1159), ('sister', 1160), ('correct', 1161), ('cardboard', 1162), ('comparison', 1163), ('coke', 1164), ('develop', 1165), ('magic', 1166), ('earli', 1167), ('tender', 1168), ('sweeter', 1169), ('appar', 1170), ('rave', 1171), ('gas', 1172), ('xylitol', 1173), ('face', 1174), ('hungri', 1175), ('design', 1176), ('dough', 1177), ('bargain', 1178), ('carrot', 1179), ('beer', 1180), ('cane', 1181), ('initi', 1182), ('pomegran', 1183), ('walk', 1184), ('intak', 1185), ('palat', 1186), ('relax', 1187), ('liter', 1188), ('manag', 1189), ('taken', 1190), ('ten', 1191), ('medic', 1192), ('japanes', 1193), ('lab', 1194), ('sprout', 1195), ('complex', 1196), ('strang', 1197), ('bed', 1198), ('comfort', 1199), ('complain', 1200), ('costco', 1201), ('bonus', 1202), ('die', 1203), ('success', 1204), ('upset', 1205), ('wors', 1206), ('fell', 1207), ('drive', 1208), ('mistak', 1209), ('odd', 1210), ('asian', 1211), ('firm', 1212), ('trust', 1213), ('bran', 1214), ('crumb', 1215), ('refund', 1216), ('sens', 1217), ('tough', 1218), ('town', 1219), ('frequent', 1220), ('tran', 1221), ('besid', 1222), ('young', 1223), ('prevent', 1224), ('cafe', 1225), ('usa', 1226), ('layer', 1227), ('middl', 1228), ('rock', 1229), ('nutrient', 1230), ('retail', 1231), ('california', 1232), ('imposs', 1233), ('awar', 1234), ('common', 1235), ('method', 1236), ('pump', 1237), ('watermelon', 1238), ('period', 1239), ('tangi', 1240), ('despit', 1241), ('mini', 1242), ('activ', 1243), ('program', 1244), ('discount', 1245), ('breast', 1246), ('haribo', 1247), ('walnut', 1248), ('fanci', 1249), ('loss', 1250), ('forget', 1251), ('question', 1252), ('temperatur', 1253), ('anni', 1254), ('buck', 1255), ('crush', 1256), ('loaf', 1257), ('purpos', 1258), ('sign', 1259), ('specif', 1260), ('memori', 1261), ('pecan', 1262), ('antioxid', 1263), ('basi', 1264), ('finger', 1265), ('lbs', 1266), ('mail', 1267), ('defin', 1268), ('robust', 1269), ('threw', 1270), ('appeal', 1271), ('bbq', 1272), ('kosher', 1273), ('liver', 1274), ('malt', 1275), ('assum', 1276), ('reach', 1277), ('sugari', 1278), ('skeptic', 1279), ('commerci', 1280), ('spent', 1281), ('ran', 1282), ('miner', 1283), ('south', 1284), ('steam', 1285), ('werent', 1286), ('began', 1287), ('trade', 1288), ('bare', 1289), ('girl', 1290), ('promis', 1291), ('whip', 1292), ('kona', 1293), ('center', 1294), ('luck', 1295), ('throat', 1296), ('walmart', 1297), ('rub', 1298), ('hear', 1299), ('sooth', 1300), ('wide', 1301), ('everywher', 1302), ('occas', 1303), ('toler', 1304), ('canist', 1305), ('cola', 1306), ('constant', 1307), ('min', 1308), ('vari', 1309), ('parent', 1310), ('winner', 1311), ('among', 1312), ('desir', 1313), ('drain', 1314), ('rins', 1315), ('rose', 1316), ('belli', 1317), ('discontinu', 1318), ('man', 1319), ('marinad', 1320), ('older', 1321), ('thus', 1322), ('lighter', 1323), ('rooibo', 1324), ('pud', 1325), ('tofu', 1326), ('via', 1327), ('trick', 1328), ('flat', 1329), ('reaction', 1330), ('gallon', 1331), ('fortun', 1332), ('iron', 1333), ('jam', 1334), ('filler', 1335), ('calm', 1336), ('strip', 1337), ('aromat', 1338), ('greeni', 1339), ('pleasur', 1340), ('sausag', 1341), ('punch', 1342), ('rais', 1343), ('member', 1344), ('signific', 1345), ('front', 1346), ('lavazza', 1347), ('locat', 1348), ('prime', 1349), ('awhil', 1350), ('beyond', 1351), ('disappear', 1352), ('foil', 1353), ('forev', 1354), ('kiwi', 1355), ('lol', 1356), ('nose', 1357), ('shelv', 1358), ('term', 1359), ('trader', 1360), ('essenti', 1361), ('calcium', 1362), ('dust', 1363), ('funni', 1364), ('hearti', 1365), ('itali', 1366), ('inch', 1367), ('multipl', 1368), ('econom', 1369), ('strength', 1370), ('owner', 1371), ('versatil', 1372), ('yogi', 1373), ('meet', 1374), ('inde', 1375), ('suffer', 1376), ('support', 1377), ('spoil', 1378), ('experienc', 1379), ('leftov', 1380), ('brewer', 1381), ('tongu', 1382), ('intend', 1383), ('citrus', 1384), ('harder', 1385), ('nectar', 1386), ('report', 1387), ('certifi', 1388), ('kibbl', 1389), ('matcha', 1390), ('mellow', 1391), ('messi', 1392), ('slow', 1393), ('bore', 1394), ('england', 1395), ('grate', 1396), ('therefor', 1397), ('brother', 1398), ('reorder', 1399), ('wake', 1400), ('satur', 1401), ('accept', 1402), ('mexican', 1403), ('san', 1404), ('grass', 1405), ('indic', 1406), ('shrimp', 1407), ('target', 1408), ('hide', 1409), ('irish', 1410), ('moment', 1411), ('theyv', 1412), ('butteri', 1413), ('carbohydr', 1414), ('kill', 1415), ('attent', 1416), ('here', 1417), ('club', 1418), ('bright', 1419), ('crack', 1420), ('degre', 1421), ('anytim', 1422), ('dozen', 1423), ('drip', 1424), ('stew', 1425), ('blender', 1426), ('ketchup', 1427), ('spray', 1428), ('unabl', 1429), ('bigelow', 1430), ('dens', 1431), ('automat', 1432), ('effort', 1433), ('fake', 1434), ('hydrogen', 1435), ('promot', 1436), ('shock', 1437), ('ramen', 1438), ('refin', 1439), ('step', 1440), ('wateri', 1441), ('bewar', 1442), ('celesti', 1443), ('lollipop', 1444), ('greasi', 1445), ('stori', 1446), ('swallow', 1447), ('hole', 1448), ('secret', 1449), ('sunflow', 1450), ('carton', 1451), ('steel', 1452), ('attempt', 1453), ('maintain', 1454), ('rang', 1455), ('specialti', 1456), ('moistur', 1457), ('india', 1458), ('inexpens', 1459), ('onto', 1460), ('teabag', 1461), ('disgust', 1462), ('studi', 1463), ('regret', 1464), ('dad', 1465), ('pineappl', 1466), ('rawhid', 1467), ('tortilla', 1468), ('adjust', 1469), ('ahead', 1470), ('chef', 1471), ('german', 1472), ('purs', 1473), ('shred', 1474), ('wrapper', 1475), ('germani', 1476), ('grocer', 1477), ('squeez', 1478), ('superb', 1479), ('tub', 1480), ('updat', 1481), ('link', 1482), ('citi', 1483), ('decad', 1484), ('yeah', 1485), ('exampl', 1486), ('excess', 1487), ('grapefruit', 1488), ('neither', 1489), ('childhood', 1490), ('diagnos', 1491), ('fed', 1492), ('gross', 1493), ('moder', 1494), ('rise', 1495), ('taco', 1496), ('frank', 1497), ('metal', 1498), ('plate', 1499), ('hershey', 1500), ('household', 1501), ('mole', 1502), ('refus', 1503), ('settl', 1504), ('jack', 1505), ('peel', 1506), ('penni', 1507), ('twist', 1508), ('eas', 1509), ('match', 1510), ('reward', 1511), ('throughout', 1512), ('kettl', 1513), ('protect', 1514), ('somewher', 1515), ('stuf', 1516), ('kernel', 1517), ('macaroni', 1518), ('mushi', 1519), ('barley', 1520), ('counter', 1521), ('necessari', 1522), ('tasteless', 1523), ('basil', 1524), ('fli', 1525), ('intoler', 1526), ('thicker', 1527), ('cute', 1528), ('infus', 1529), ('mark', 1530), ('slowli', 1531), ('harvest', 1532), ('alcohol', 1533), ('batter', 1534), ('planter', 1535), ('appetit', 1536), ('god', 1537), ('odor', 1538), ('pressur', 1539), ('floor', 1540), ('unpleas', 1541), ('edg', 1542), ('ideal', 1543), ('sushi', 1544), ('tight', 1545), ('unsweeten', 1546), ('elsewher', 1547), ('fulli', 1548), ('hemp', 1549), ('lead', 1550), ('sharp', 1551), ('supplier', 1552), ('sweetner', 1553), ('europ', 1554), ('indulg', 1555), ('oili', 1556), ('attract', 1557), ('dental', 1558), ('dietari', 1559), ('grinder', 1560), ('mile', 1561), ('burnt', 1562), ('cap', 1563), ('habit', 1564), ('highest', 1565), ('lick', 1566), ('pinch', 1567), ('pink', 1568), ('saver', 1569), ('savori', 1570), ('clump', 1571), ('cupcak', 1572), ('ear', 1573), ('elimin', 1574), ('seafood', 1575), ('wholesom', 1576), ('squar', 1577), ('will', 1578), ('buffalo', 1579), ('cancer', 1580), ('lucki', 1581), ('toddler', 1582), ('lentil', 1583), ('spring', 1584), ('apricot', 1585), ('crema', 1586), ('factor', 1587), ('gobbl', 1588), ('space', 1589), ('class', 1590), ('hasnt', 1591), ('wafer', 1592), ('compliment', 1593), ('gain', 1594), ('minim', 1595), ('risk', 1596), ('affect', 1597), ('dice', 1598), ('repeat', 1599), ('sun', 1600), ('oolong', 1601), ('prior', 1602), ('softer', 1603), ('valley', 1604), ('forc', 1605), ('island', 1606), ('rope', 1607), ('desk', 1608), ('info', 1609), ('ladi', 1610), ('puff', 1611), ('regard', 1612), ('sam', 1613), ('virgin', 1614), ('explain', 1615), ('gentl', 1616), ('manner', 1617), ('potassium', 1618), ('request', 1619), ('colleg', 1620), ('edibl', 1621), ('eight', 1622), ('illi', 1623), ('munch', 1624), ('snap', 1625), ('tsp', 1626), ('afraid', 1627), ('choke', 1628), ('fashion', 1629), ('tangerin', 1630), ('blackberri', 1631), ('mccann', 1632), ('molass', 1633), ('mrs', 1634), ('unusu', 1635), ('wed', 1636), ('ador', 1637), ('faster', 1638), ('finicki', 1639), ('pickl', 1640), ('suspect', 1641), ('meant', 1642), ('split', 1643), ('chamomil', 1644), ('downsid', 1645), ('speak', 1646), ('workout', 1647), ('acquir', 1648), ('brush', 1649), ('oreo', 1650), ('pup', 1651), ('rip', 1652), ('burger', 1653), ('smoki', 1654), ('kitten', 1655), ('moth', 1656), ('wasabi', 1657), ('beg', 1658), ('dead', 1659), ('eventu', 1660), ('graini', 1661), ('answer', 1662), ('hip', 1663), ('solut', 1664), ('tear', 1665), ('closest', 1666), ('featur', 1667), ('overnight', 1668), ('partial', 1669), ('quaker', 1670), ('ruin', 1671), ('bergamot', 1672), ('gevalia', 1673), ('rid', 1674), ('seattl', 1675), ('creme', 1676), ('exercis', 1677), ('fail', 1678), ('leak', 1679), ('pair', 1680), ('pear', 1681), ('thru', 1682), ('ultim', 1683), ('chill', 1684), ('cupboard', 1685), ('dream', 1686), ('rum', 1687), ('hurt', 1688), ('recycl', 1689), ('soggi', 1690), ('spit', 1691), ('stress', 1692), ('fragrant', 1693), ('somehow', 1694), ('absorb', 1695), ('emerald', 1696), ('rough', 1697), ('stove', 1698), ('donut', 1699), ('jump', 1700), ('ridicul', 1701), ('texa', 1702), ('shame', 1703), ('bpa', 1704), ('generous', 1705), ('hamburg', 1706), ('hey', 1707), ('consider', 1708), ('group', 1709), ('dump', 1710), ('fool', 1711), ('sore', 1712), ('starter', 1713), ('betti', 1714), ('familiar', 1715), ('kinda', 1716), ('mixer', 1717), ('trail', 1718), ('click', 1719), ('fight', 1720), ('road', 1721), ('section', 1722), ('tummi', 1723), ('buyer', 1724), ('juici', 1725), ('thumb', 1726), ('darn', 1727), ('balsam', 1728), ('behind', 1729), ('british', 1730), ('suck', 1731), ('tablet', 1732), ('clam', 1733), ('decaffein', 1734), ('father', 1735), ('fire', 1736), ('mate', 1737), ('rye', 1738), ('smart', 1739), ('chose', 1740), ('darker', 1741), ('emerg', 1742), ('garbag', 1743), ('reseal', 1744), ('thorough', 1745), ('slim', 1746), ('storag', 1747), ('titl', 1748), ('trash', 1749), ('fluffi', 1750), ('bay', 1751), ('lamb', 1752), ('sampler', 1753), ('toward', 1754), ('up', 1755), ('gritti', 1756), ('non', 1757), ('bonsai', 1758), ('guilti', 1759), ('tropic', 1760), ('altoid', 1761), ('fig', 1762), ('hadnt', 1763), ('ratio', 1764), ('shouldnt', 1765), ('stool', 1766), ('till', 1767), ('america', 1768), ('catch', 1769), ('destroy', 1770), ('vomit', 1771), ('weather', 1772), ('weekend', 1773), ('collect', 1774), ('dose', 1775), ('asid', 1776), ('cappuccino', 1777), ('cuisin', 1778), ('happili', 1779), ('chewer', 1780), ('push', 1781), ('dehydr', 1782), ('entertain', 1783), ('guarante', 1784), ('miracl', 1785), ('page', 1786), ('parmesan', 1787), ('richer', 1788), ('simmer', 1789), ('act', 1790), ('reciev', 1791), ('sudden', 1792), ('unhealthi', 1793), ('watcher', 1794), ('win', 1795), ('advis', 1796), ('caught', 1797), ('greatest', 1798), ('ami', 1799), ('canada', 1800), ('combo', 1801), ('rush', 1802), ('tabasco', 1803), ('toffe', 1804), ('harsh', 1805), ('oppos', 1806), ('smile', 1807), ('cooker', 1808), ('fragranc', 1809), ('gel', 1810), ('mold', 1811), ('acai', 1812), ('bet', 1813), ('earlier', 1814), ('evo', 1815), ('flaxse', 1816), ('theyd', 1817), ('theyll', 1818), ('dispens', 1819), ('film', 1820), ('lemonad', 1821), ('track', 1822), ('vacat', 1823), ('challeng', 1824), ('coupon', 1825), ('minor', 1826), ('net', 1827), ('aspartam', 1828), ('canida', 1829), ('clove', 1830), ('feast', 1831), ('fond', 1832), ('glycem', 1833), ('broke', 1834), ('camp', 1835), ('duck', 1836), ('fresher', 1837), ('ham', 1838), ('recal', 1839), ('rescu', 1840), ('substanc', 1841), ('cal', 1842), ('chain', 1843), ('cow', 1844), ('savor', 1845), ('wrote', 1846), ('milder', 1847), ('resist', 1848), ('tassimo', 1849), ('cure', 1850), ('pad', 1851), ('tray', 1852), ('zico', 1853), ('associ', 1854), ('dislik', 1855), ('approxim', 1856), ('diarrhea', 1857), ('googl', 1858), ('graham', 1859), ('japan', 1860), ('skip', 1861), ('competit', 1862), ('earthi', 1863), ('lean', 1864), ('shed', 1865), ('smokey', 1866), ('goji', 1867), ('marshmallow', 1868), ('mayo', 1869), ('quart', 1870), ('soooo', 1871), ('tastier', 1872), ('tube', 1873), ('york', 1874), ('cancel', 1875), ('danger', 1876), ('drawback', 1877), ('european', 1878), ('shown', 1879), ('soap', 1880), ('wise', 1881), ('barri', 1882), ('famous', 1883), ('fudg', 1884), ('knock', 1885), ('pearl', 1886), ('refer', 1887), ('spinach', 1888), ('consumpt', 1889), ('dash', 1890), ('dilut', 1891), ('fatti', 1892), ('goat', 1893), ('kong', 1894), ('passion', 1895), ('rabbit', 1896), ('sport', 1897), ('breed', 1898), ('cough', 1899), ('decor', 1900), ('biggest', 1901), ('muesli', 1902), ('needless', 1903), ('starch', 1904), ('swiss', 1905), ('tad', 1906), ('twin', 1907), ('boyfriend', 1908), ('unbeliev', 1909), ('advantag', 1910), ('appli', 1911), ('cacao', 1912), ('floral', 1913), ('guilt', 1914), ('neighbor', 1915), ('poop', 1916), ('readili', 1917), ('afterward', 1918), ('leg', 1919), ('rubber', 1920), ('seawe', 1921), ('splash', 1922), ('yesterday', 1923), ('caution', 1924), ('east', 1925), ('hunger', 1926), ('miso', 1927), ('nestl', 1928), ('paw', 1929), ('sooo', 1930), ('suit', 1931), ('wing', 1932), ('wood', 1933), ('bull', 1934), ('cheapest', 1935), ('involv', 1936), ('larabar', 1937), ('mood', 1938), ('shini', 1939), ('casserol', 1940), ('crocker', 1941), ('desert', 1942), ('fuel', 1943), ('harm', 1944), ('spearmint', 1945), ('spill', 1946), ('bug', 1947), ('grit', 1948), ('chipotl', 1949), ('convinc', 1950), ('materi', 1951), ('thicken', 1952), ('yuck', 1953), ('folger', 1954), ('joy', 1955), ('print', 1956), ('substanti', 1957), ('volum', 1958), ('hunt', 1959), ('releas', 1960), ('seven', 1961), ('exclus', 1962), ('mash', 1963), ('pastri', 1964), ('scare', 1965), ('variat', 1966), ('warehous', 1967), ('weigh', 1968), ('auto', 1969), ('couscous', 1970), ('intact', 1971), ('jean', 1972), ('kidney', 1973), ('news', 1974), ('advic', 1975), ('bakeri', 1976), ('build', 1977), ('detail', 1978), ('hubbi', 1979), ('path', 1980), ('primarili', 1981), ('teapot', 1982), ('transit', 1983), ('aid', 1984), ('cabinet', 1985), ('closer', 1986), ('dirti', 1987), ('gloria', 1988), ('jug', 1989), ('expert', 1990), ('lay', 1991), ('restrict', 1992), ('ring', 1993), ('hummus', 1994), ('distribut', 1995), ('equival', 1996), ('game', 1997), ('gotta', 1998), ('grandmoth', 1999), ('resembl', 2000), ('solv', 2001), ('stumbl', 2002), ('appropri', 2003), ('burst', 2004), ('key', 2005), ('linger', 2006), ('pepsi', 2007), ('potenti', 2008), ('tinkyada', 2009), ('deserv', 2010), ('devour', 2011), ('everybodi', 2012), ('hibiscus', 2013), ('insan', 2014), ('regardless', 2015), ('soften', 2016), ('written', 2017), ('chunki', 2018), ('happier', 2019), ('marin', 2020), ('metabol', 2021), ('ordinari', 2022), ('theater', 2023), ('overpr', 2024), ('refil', 2025), ('scone', 2026), ('student', 2027), ('yard', 2028), ('confus', 2029), ('fault', 2030), ('glaze', 2031), ('skim', 2032), ('tiger', 2033), ('chocolatey', 2034), ('condiment', 2035), ('granul', 2036), ('heck', 2037), ('corner', 2038), ('crash', 2039), ('dissapoint', 2040), ('finest', 2041), ('situat', 2042), ('southern', 2043), ('access', 2044), ('fussi', 2045), ('giant', 2046), ('intern', 2047), ('capsul', 2048), ('coast', 2049), ('dove', 2050), ('muscl', 2051), ('own', 2052), ('pig', 2053), ('ride', 2054), ('sat', 2055), ('stain', 2056), ('zevia', 2057), ('curious', 2058), ('drug', 2059), ('exot', 2060), ('florida', 2061), ('hell', 2062), ('tax', 2063), ('thrown', 2064), ('credit', 2065), ('felin', 2066), ('king', 2067), ('lobster', 2068), ('properti', 2069), ('reserv', 2070), ('cocktail', 2071), ('edit', 2072), ('ensur', 2073), ('fewer', 2074), ('shower', 2075), ('approv', 2076), ('connoisseur', 2077), ('innova', 2078), ('luckili', 2079), ('omega', 2080), ('recipi', 2081), ('silk', 2082), ('zip', 2083), ('held', 2084), ('immun', 2085), ('thirst', 2086), ('whim', 2087), ('cross', 2088), ('death', 2089), ('encourag', 2090), ('magnesium', 2091), ('met', 2092), ('mislead', 2093), ('numer', 2094), ('nurs', 2095), ('palm', 2096), ('perform', 2097), ('virtual', 2098), ('bun', 2099), ('darjeel', 2100), ('fizzi', 2101), ('jim', 2102), ('quarter', 2103), ('tempt', 2104), ('address', 2105), ('aerogarden', 2106), ('envelop', 2107), ('plump', 2108), ('popper', 2109), ('respect', 2110), ('snob', 2111), ('welcom', 2112), ('fishi', 2113), ('goodi', 2114), ('kellogg', 2115), ('pronounc', 2116), ('rancid', 2117), ('symptom', 2118), ('broccoli', 2119), ('cider', 2120), ('hawaii', 2121), ('med', 2122), ('nation', 2123), ('petit', 2124), ('phone', 2125), ('sturdi', 2126), ('vacuum', 2127), ('coca', 2128), ('complement', 2129), ('heinz', 2130), ('planet', 2131), ('spare', 2132), ('encount', 2133), ('essenc', 2134), ('jalapeno', 2135), ('portabl', 2136), ('spike', 2137), ('truth', 2138), ('anchovi', 2139), ('heal', 2140), ('master', 2141), ('men', 2142), ('opportun', 2143), ('rishi', 2144), ('scienc', 2145), ('swear', 2146), ('tang', 2147), ('whey', 2148), ('drizzl', 2149), ('ignor', 2150), ('remark', 2151), ('shortbread', 2152), ('terrier', 2153), ('baker', 2154), ('barbecu', 2155), ('bloom', 2156), ('born', 2157), ('campbel', 2158), ('focus', 2159), ('frustrat', 2160), ('poison', 2161), ('reliabl', 2162), ('respond', 2163), ('sucralos', 2164), ('vine', 2165), ('appet', 2166), ('celeri', 2167), ('infect', 2168), ('schedul', 2169), ('west', 2170), ('abil', 2171), ('assur', 2172), ('doggi', 2173), ('dye', 2174), ('lactos', 2175), ('lavend', 2176), ('occur', 2177), ('pine', 2178), ('soil', 2179), ('factori', 2180), ('generic', 2181), ('rib', 2182), ('fear', 2183), ('hundr', 2184), ('indoor', 2185), ('profession', 2186), ('rees', 2187), ('relief', 2188), ('sensat', 2189), ('soymilk', 2190), ('straw', 2191), ('torani', 2192), ('feet', 2193), ('hike', 2194), ('reminisc', 2195), ('user', 2196), ('confirm', 2197), ('cornbread', 2198), ('environ', 2199), ('gag', 2200), ('joke', 2201), ('peac', 2202), ('pellet', 2203), ('royal', 2204), ('whatsoev', 2205), ('bulb', 2206), ('henc', 2207), ('histori', 2208), ('self', 2209), ('smoother', 2210), ('surfac', 2211), ('blow', 2212), ('concoct', 2213), ('dig', 2214), ('gelatin', 2215), ('north', 2216), ('block', 2217), ('confid', 2218), ('emeril', 2219), ('everytim', 2220), ('extend', 2221), ('ghirardelli', 2222), ('grant', 2223), ('midnight', 2224), ('obtain', 2225), ('profil', 2226), ('ranch', 2227), ('region', 2228), ('struggl', 2229), ('awak', 2230), ('bird', 2231), ('boot', 2232), ('convert', 2233), ('determin', 2234), ('greek', 2235), ('hassl', 2236), ('headach', 2237), ('jet', 2238), ('sheet', 2239), ('sumatra', 2240), ('exist', 2241), ('hotter', 2242), ('hurri', 2243), ('lie', 2244), ('photo', 2245), ('pita', 2246), ('routin', 2247), ('clementin', 2248), ('gooey', 2249), ('hydrat', 2250), ('lip', 2251), ('bless', 2252), ('cheesi', 2253), ('crab', 2254), ('display', 2255), ('exceed', 2256), ('lift', 2257), ('listen', 2258), ('nutiva', 2259), ('recomend', 2260), ('demand', 2261), ('eden', 2262), ('farmer', 2263), ('float', 2264), ('pitcher', 2265), ('purina', 2266), ('subject', 2267), ('sucker', 2268), ('teriyaki', 2269), ('zing', 2270), ('categori', 2271), ('decreas', 2272), ('detect', 2273), ('disc', 2274), ('itll', 2275), ('java', 2276), ('stretch', 2277), ('toxic', 2278), ('versus', 2279), ('accompani', 2280), ('desper', 2281), ('faint', 2282), ('ferment', 2283), ('assam', 2284), ('brain', 2285), ('card', 2286), ('cheerio', 2287), ('event', 2288), ('fda', 2289), ('halloween', 2290), ('healthiest', 2291), ('index', 2292), ('lazi', 2293), ('lowest', 2294), ('neat', 2295), ('pace', 2296), ('spanish', 2297), ('accur', 2298), ('basmati', 2299), ('btw', 2300), ('bunni', 2301), ('flop', 2302), ('lettuc', 2303), ('melitta', 2304), ('nutmeg', 2305), ('outrag', 2306), ('pepperi', 2307), ('retriev', 2308), ('tall', 2309), ('bath', 2310), ('bell', 2311), ('bulli', 2312), ('cardamom', 2313), ('lemongrass', 2314), ('male', 2315), ('surgeri', 2316), ('sustain', 2317), ('cramp', 2318), ('divin', 2319), ('durabl', 2320), ('rosemari', 2321), ('scovill', 2322), ('tag', 2323), ('vodka', 2324), ('charact', 2325), ('crap', 2326), ('diamond', 2327), ('evapor', 2328), ('parsley', 2329), ('aspect', 2330), ('bedtim', 2331), ('chex', 2332), ('coco', 2333), ('constip', 2334), ('contamin', 2335), ('growth', 2336), ('impact', 2337), ('jolli', 2338), ('lump', 2339), ('pistachio', 2340), ('puf', 2341), ('record', 2342), ('accid', 2343), ('annoy', 2344), ('beach', 2345), ('chile', 2346), ('dirt', 2347), ('environment', 2348), ('lite', 2349), ('marzipan', 2350), ('mass', 2351), ('mexico', 2352), ('nylabon', 2353), ('refri', 2354), ('safeti', 2355), ('younger', 2356), ('budget', 2357), ('chicori', 2358), ('expresso', 2359), ('iam', 2360), ('krispi', 2361), ('nibbl', 2362), ('oregon', 2363), ('shaker', 2364), ('stink', 2365), ('cycl', 2366), ('franc', 2367), ('law', 2368), ('overcook', 2369), ('paprika', 2370), ('rebecca', 2371), ('retain', 2372), ('strainer', 2373), ('avid', 2374), ('cilantro', 2375), ('grandma', 2376), ('laugh', 2377), ('mari', 2378), ('mayonnais', 2379), ('notch', 2380), ('thanksgiv', 2381), ('approach', 2382), ('funki', 2383), ('hospit', 2384), ('potent', 2385), ('suffici', 2386), ('tbsp', 2387), ('teenag', 2388), ('thinner', 2389), ('whose', 2390), ('yorkshir', 2391), ('adopt', 2392), ('airtight', 2393), ('brittl', 2394), ('canola', 2395), ('fluid', 2396), ('fortifi', 2397), ('function', 2398), ('invest', 2399), ('lock', 2400), ('neighborhood', 2401), ('patient', 2402), ('percent', 2403), ('silver', 2404), ('sriracha', 2405), ('taylor', 2406), ('chow', 2407), ('decis', 2408), ('depart', 2409), ('difficulti', 2410), ('error', 2411), ('foam', 2412), ('girlfriend', 2413), ('knife', 2414), ('satisfact', 2415), ('scale', 2416), ('secur', 2417), ('temp', 2418), ('canin', 2419), ('chocolati', 2420), ('disagre', 2421), ('marvel', 2422), ('prune', 2423), ('soybean', 2424), ('woman', 2425), ('anticip', 2426), ('citric', 2427), ('coff', 2428), ('concept', 2429), ('conscious', 2430), ('eager', 2431), ('fizz', 2432), ('nervous', 2433), ('nib', 2434), ('pit', 2435), ('primari', 2436), ('prove', 2437), ('reconstitut', 2438), ('reliev', 2439), ('string', 2440), ('suitabl', 2441), ('surviv', 2442), ('urg', 2443), ('backpack', 2444), ('carpet', 2445), ('coars', 2446), ('con', 2447), ('cooler', 2448), ('grandson', 2449), ('judg', 2450), ('nacho', 2451), ('residu', 2452), ('speed', 2453), ('articl', 2454), ('attack', 2455), ('bouillon', 2456), ('catnip', 2457), ('cloth', 2458), ('former', 2459), ('greas', 2460), ('million', 2461), ('qualifi', 2462), ('tartar', 2463), ('tastiest', 2464), ('wear', 2465), ('applesauc', 2466), ('compet', 2467), ('easiest', 2468), ('fork', 2469), ('gingerbread', 2470), ('hodgson', 2471), ('holder', 2472), ('largest', 2473), ('merrick', 2474), ('mighti', 2475), ('delect', 2476), ('dreamfield', 2477), ('drinkabl', 2478), ('fur', 2479), ('gonna', 2480), ('hotel', 2481), ('mere', 2482), ('minimum', 2483), ('nobodi', 2484), ('occupi', 2485), ('spelt', 2486), ('buddi', 2487), ('convent', 2488), ('critic', 2489), ('dave', 2490), ('mysteri', 2491), ('purpl', 2492), ('roland', 2493), ('runni', 2494), ('stimul', 2495), ('tripl', 2496), ('wax', 2497), ('angel', 2498), ('charm', 2499), ('comput', 2500), ('depth', 2501), ('ident', 2502), ('manuka', 2503), ('margarita', 2504), ('outer', 2505), ('allergen', 2506), ('attach', 2507), ('creativ', 2508), ('cri', 2509), ('cultur', 2510), ('habanero', 2511), ('hang', 2512), ('inferior', 2513), ('nearbi', 2514), ('pesto', 2515), ('repres', 2516), ('reput', 2517), ('station', 2518), ('street', 2519), ('women', 2520), ('buckwheat', 2521), ('buttermilk', 2522), ('ceylon', 2523), ('cowork', 2524), ('recogn', 2525), ('steal', 2526), ('yield', 2527), ('compromis', 2528), ('express', 2529), ('favourit', 2530), ('gym', 2531), ('inner', 2532), ('joint', 2533), ('march', 2534), ('peppercorn', 2535), ('seek', 2536), ('turkish', 2537), ('twelv', 2538), ('alert', 2539), ('anybodi', 2540), ('cayenn', 2541), ('compon', 2542), ('hfcs', 2543), ('ined', 2544), ('jaw', 2545), ('juli', 2546), ('sooner', 2547), ('art', 2548), ('fold', 2549), ('liquor', 2550), ('luxuri', 2551), ('nyc', 2552), ('prescript', 2553), ('proud', 2554), ('quench', 2555), ('tie', 2556), ('trace', 2557), ('valentin', 2558), ('chowder', 2559), ('evid', 2560), ('flow', 2561), ('heap', 2562), ('ingest', 2563), ('jello', 2564), ('mask', 2565), ('sink', 2566), ('blossom', 2567), ('cleaner', 2568), ('dare', 2569), ('dilmah', 2570), ('energ', 2571), ('facil', 2572), ('genuin', 2573), ('insert', 2574), ('invent', 2575), ('irrit', 2576), ('korean', 2577), ('martini', 2578), ('minus', 2579), ('rule', 2580), ('stem', 2581), ('toaster', 2582), ('ala', 2583), ('beetlejuic', 2584), ('border', 2585), ('chihuahua', 2586), ('gather', 2587), ('plum', 2588), ('saute', 2589), ('adequ', 2590), ('author', 2591), ('cheesecak', 2592), ('enter', 2593), ('glucos', 2594), ('letter', 2595), ('reli', 2596), ('tapioca', 2597), ('tremend', 2598), ('univers', 2599), ('cookbook', 2600), ('costa', 2601), ('enthusiast', 2602), ('fee', 2603), ('inhal', 2604), ('prais', 2605), ('pregnant', 2606), ('rind', 2607), ('shepherd', 2608), ('strict', 2609), ('supris', 2610), ('wherea', 2611), ('worm', 2612), ('bacteria', 2613), ('bark', 2614), ('deriv', 2615), ('draw', 2616), ('entre', 2617), ('fuss', 2618), ('generat', 2619), ('gerber', 2620), ('grand', 2621), ('minti', 2622), ('pale', 2623), ('princ', 2624), ('resort', 2625), ('tim', 2626), ('accustom', 2627), ('board', 2628), ('caff', 2629), ('commit', 2630), ('forgot', 2631), ('orlean', 2632), ('pero', 2633), ('squirt', 2634), ('aluminum', 2635), ('cone', 2636), ('donat', 2637), ('lifestyl', 2638), ('pesticid', 2639), ('strain', 2640), ('taster', 2641), ('trial', 2642), ('amino', 2643), ('bamboo', 2644), ('bloat', 2645), ('decemb', 2646), ('eleg', 2647), ('gusto', 2648), ('industri', 2649), ('max', 2650), ('meati', 2651), ('necessarili', 2652), ('outdoor', 2653), ('pint', 2654), ('public', 2655), ('reccomend', 2656), ('whos', 2657), ('contribut', 2658), ('dutch', 2659), ('field', 2660), ('forest', 2661), ('imit', 2662), ('intestin', 2663), ('linda', 2664), ('nescaf', 2665), ('poultri', 2666), ('senior', 2667), ('signatur', 2668), ('similac', 2669), ('smash', 2670), ('www', 2671), ('cuppa', 2672), ('freak', 2673), ('grassi', 2674), ('mush', 2675), ('safeway', 2676), ('saut', 2677), ('toothpick', 2678), ('vend', 2679), ('bank', 2680), ('cluster', 2681), ('dispos', 2682), ('exchang', 2683), ('fraction', 2684), ('grandchildren', 2685), ('munchi', 2686), ('nonetheless', 2687), ('percentag', 2688), ('rainforest', 2689), ('syrupi', 2690), ('tone', 2691), ('transact', 2692), ('treatment', 2693), ('centuri', 2694), ('cloy', 2695), ('culinari', 2696), ('formul', 2697), ('incorpor', 2698), ('lifesav', 2699), ('morsel', 2700), ('nowher', 2701), ('rank', 2702), ('repli', 2703), ('scrambl', 2704), ('snow', 2705), ('vital', 2706), ('account', 2707), ('artichok', 2708), ('cell', 2709), ('electr', 2710), ('erythritol', 2711), ('exquisit', 2712), ('ghee', 2713), ('minc', 2714), ('unexpect', 2715), ('alter', 2716), ('anis', 2717), ('crowd', 2718), ('domin', 2719), ('element', 2720), ('land', 2721), ('leather', 2722), ('marmalad', 2723), ('tonight', 2724), ('yucki', 2725), ('achiev', 2726), ('aunt', 2727), ('brick', 2728), ('choc', 2729), ('core', 2730), ('imag', 2731), ('infant', 2732), ('quot', 2733), ('stage', 2734), ('voila', 2735), ('dha', 2736), ('douw', 2737), ('drawer', 2738), ('easter', 2739), ('failur', 2740), ('greater', 2741), ('lasagna', 2742), ('monster', 2743), ('nugget', 2744), ('omg', 2745), ('tool', 2746), ('transport', 2747), ('unus', 2748), ('vita', 2749), ('yorki', 2750), ('arthriti', 2751), ('belgian', 2752), ('benefici', 2753), ('biscotti', 2754), ('buzz', 2755), ('dill', 2756), ('divid', 2757), ('egbert', 2758), ('fav', 2759), ('flavorless', 2760), ('gradual', 2761), ('muir', 2762), ('nana', 2763), ('screw', 2764), ('smallest', 2765), ('sooooo', 2766), ('stone', 2767), ('uncl', 2768), ('anxious', 2769), ('bagel', 2770), ('cheer', 2771), ('communiti', 2772), ('glen', 2773), ('imo', 2774), ('maxwel', 2775), ('meatloaf', 2776), ('peko', 2777), ('profit', 2778), ('remedi', 2779), ('skillet', 2780), ('unsalt', 2781), ('view', 2782), ('wire', 2783), ('advanc', 2784), ('adventur', 2785), ('aisl', 2786), ('bathroom', 2787), ('bucket', 2788), ('cumin', 2789), ('electrolyt', 2790), ('gatorad', 2791), ('magazin', 2792), ('masala', 2793), ('merchant', 2794), ('nine', 2795), ('remot', 2796), ('unavail', 2797), ('wind', 2798), ('columbian', 2799), ('flip', 2800), ('mad', 2801), ('monitor', 2802), ('oxid', 2803), ('proven', 2804), ('rapid', 2805), ('regul', 2806), ('sole', 2807), ('soul', 2808), ('stinki', 2809), ('util', 2810), ('vagu', 2811), ('blame', 2812), ('brazil', 2813), ('expand', 2814), ('finer', 2815), ('hidden', 2816), ('kahlua', 2817), ('modifi', 2818), ('physic', 2819), ('pyramid', 2820), ('saffron', 2821), ('ach', 2822), ('boneless', 2823), ('chalki', 2824), ('macadamia', 2825), ('messag', 2826), ('nake', 2827), ('quicker', 2828), ('taffi', 2829), ('thrive', 2830), ('tulli', 2831), ('antibiot', 2832), ('arizona', 2833), ('contrast', 2834), ('crown', 2835), ('hormon', 2836), ('insulin', 2837), ('justifi', 2838), ('margarin', 2839), ('obsess', 2840), ('reluct', 2841), ('risotto', 2842), ('sight', 2843), ('spectacular', 2844), ('truvia', 2845), ('chia', 2846), ('expos', 2847), ('gulp', 2848), ('gunpowd', 2849), ('hairbal', 2850), ('loav', 2851), ('meow', 2852), ('rancher', 2853), ('silki', 2854), ('sinus', 2855), ('tap', 2856), ('video', 2857), ('caffin', 2858), ('code', 2859), ('dunkin', 2860), ('friday', 2861), ('glutam', 2862), ('instanc', 2863), ('latest', 2864), ('london', 2865), ('ocean', 2866), ('oclock', 2867), ('probiot', 2868), ('quiet', 2869), ('rubberi', 2870), ('sunday', 2871), ('tab', 2872), ('twenti', 2873), ('unopen', 2874), ('wall', 2875), ('accident', 2876), ('bomb', 2877), ('boston', 2878), ('bouquet', 2879), ('femal', 2880), ('flush', 2881), ('lapsang', 2882), ('poodl', 2883), ('pulp', 2884), ('rica', 2885), ('silli', 2886), ('stabl', 2887), ('suprem', 2888), ('transfer', 2889), ('acerola', 2890), ('approx', 2891), ('bang', 2892), ('button', 2893), ('convers', 2894), ('discern', 2895), ('excus', 2896), ('hors', 2897), ('horseradish', 2898), ('multigrain', 2899), ('opt', 2900), ('prep', 2901), ('random', 2902), ('relish', 2903), ('sake', 2904), ('score', 2905), ('thousand', 2906), ('tract', 2907), ('venison', 2908), ('bowel', 2909), ('cadburi', 2910), ('clay', 2911), ('corpor', 2912), ('davidson', 2913), ('deli', 2914), ('januari', 2915), ('maca', 2916), ('orijen', 2917), ('powderi', 2918), ('puerh', 2919), ('rda', 2920), ('reus', 2921), ('sneak', 2922), ('vote', 2923), ('walden', 2924), ('ale', 2925), ('calor', 2926), ('chase', 2927), ('custard', 2928), ('danc', 2929), ('fragil', 2930), ('identifi', 2931), ('mum', 2932), ('perk', 2933), ('petco', 2934), ('reheat', 2935), ('weaker', 2936), ('yrs', 2937), ('bee', 2938), ('diaper', 2939), ('effici', 2940), ('everlast', 2941), ('francisco', 2942), ('kombucha', 2943), ('listmania', 2944), ('northern', 2945), ('synthet', 2946), ('temptat', 2947), ('wipe', 2948), ('wolf', 2949), ('ancient', 2950), ('chun', 2951), ('coin', 2952), ('curb', 2953), ('fourth', 2954), ('gopher', 2955), ('heavili', 2956), ('hull', 2957), ('led', 2958), ('neck', 2959), ('object', 2960), ('revolut', 2961), ('ripe', 2962), ('safer', 2963), ('slip', 2964), ('statement', 2965), ('tastebud', 2966), ('urin', 2967), ('vermont', 2968), ('africa', 2969), ('ahmad', 2970), ('arabica', 2971), ('caviti', 2972), ('chicago', 2973), ('drunk', 2974), ('elder', 2975), ('equip', 2976), ('fave', 2977), ('flu', 2978), ('freshen', 2979), ('hype', 2980), ('itch', 2981), ('nori', 2982), ('proceed', 2983), ('pungent', 2984), ('race', 2985), ('tail', 2986), ('african', 2987), ('carob', 2988), ('cucumb', 2989), ('dear', 2990), ('inspir', 2991), ('ireland', 2992), ('mccormick', 2993), ('patti', 2994), ('surround', 2995), ('sweat', 2996), ('amber', 2997), ('asparagus', 2998), ('burton', 2999), ('condens', 3000), ('enrich', 3001), ('floweri', 3002), ('garnish', 3003), ('godiva', 3004), ('kcup', 3005), ('kroger', 3006), ('loud', 3007), ('louisiana', 3008), ('malti', 3009), ('nausea', 3010), ('petsmart', 3011), ('snicker', 3012), ('bike', 3013), ('carmel', 3014), ('cart', 3015), ('delux', 3016), ('hottest', 3017), ('insist', 3018), ('jerk', 3019), ('menu', 3020), ('nativ', 3021), ('orient', 3022), ('rotat', 3023), ('santa', 3024), ('spain', 3025), ('waxi', 3026), ('aliv', 3027), ('attribut', 3028), ('biodegrad', 3029), ('cheat', 3030), ('dab', 3031), ('endless', 3032), ('estim', 3033), ('fennel', 3034), ('gem', 3035), ('jitter', 3036), ('jolt', 3037), ('junki', 3038), ('marmit', 3039), ('pacif', 3040), ('postum', 3041), ('ritz', 3042), ('seri', 3043), ('spam', 3044), ('spri', 3045), ('stack', 3046), ('tho', 3047), ('window', 3048), ('xmas', 3049), ('yay', 3050), ('belov', 3051), ('church', 3052), ('colorado', 3053), ('delish', 3054), ('dine', 3055), ('dunk', 3056), ('fellow', 3057), ('flaki', 3058), ('flossi', 3059), ('glucosamin', 3060), ('nicer', 3061), ('oversea', 3062), ('overweight', 3063), ('phenomen', 3064), ('project', 3065), ('pug', 3066), ('shut', 3067), ('somebodi', 3068), ('spicey', 3069), ('splurg', 3070), ('squash', 3071), ('thailand', 3072), ('yerba', 3073), ('zest', 3074), ('zesti', 3075), ('action', 3076), ('artif', 3077), ('bliss', 3078), ('breez', 3079), ('chilli', 3080), ('chocohol', 3081), ('dolc', 3082), ('feedback', 3083), ('hawaiian', 3084), ('impart', 3085), ('lecithin', 3086), ('niacin', 3087), ('park', 3088), ('perman', 3089), ('reflux', 3090), ('sniff', 3091), ('starv', 3092), ('styrofoam', 3093), ('tahini', 3094), ('unnecessari', 3095), ('agent', 3096), ('arm', 3097), ('august', 3098), ('cheeto', 3099), ('cleans', 3100), ('miniatur', 3101), ('model', 3102), ('pro', 3103), ('protien', 3104), ('ration', 3105), ('stovetop', 3106), ('usda', 3107), ('wherev', 3108), ('aint', 3109), ('april', 3110), ('atkin', 3111), ('blah', 3112), ('blown', 3113), ('cousin', 3114), ('david', 3115), ('fare', 3116), ('glow', 3117), ('june', 3118), ('meatbal', 3119), ('mmmm', 3120), ('niec', 3121), ('observ', 3122), ('octob', 3123), ('oper', 3124), ('perfum', 3125), ('saltin', 3126), ('twizzler', 3127), ('wound', 3128), ('australian', 3129), ('benecol', 3130), ('bush', 3131), ('chive', 3132), ('clog', 3133), ('crate', 3134), ('fenc', 3135), ('froth', 3136), ('hickori', 3137), ('inspect', 3138), ('michigan', 3139), ('milki', 3140), ('nutella', 3141), ('oregano', 3142), ('scrumptious', 3143), ('shave', 3144), ('shorten', 3145), ('travers', 3146), ('ultra', 3147), ('utter', 3148), ('velveeta', 3149), ('altogeth', 3150), ('beagl', 3151), ('celebr', 3152), ('crouton', 3153), ('enfamil', 3154), ('fenugreek', 3155), ('goal', 3156), ('gorgeous', 3157), ('granddaught', 3158), ('harden', 3159), ('illustr', 3160), ('ravioli', 3161), ('reflect', 3162), ('scrape', 3163), ('smelli', 3164), ('souchong', 3165), ('strike', 3166), ('swirl', 3167), ('tbs', 3168), ('teen', 3169), ('adapt', 3170), ('background', 3171), ('celsius', 3172), ('characterist', 3173), ('coffeemak', 3174), ('distinguish', 3175), ('endors', 3176), ('entic', 3177), ('frog', 3178), ('hazard', 3179), ('lake', 3180), ('latter', 3181), ('oldest', 3182), ('pee', 3183), ('petal', 3184), ('resolv', 3185), ('roaster', 3186), ('zuke', 3187), ('australia', 3188), ('bin', 3189), ('cajun', 3190), ('carnat', 3191), ('chutney', 3192), ('conclus', 3193), ('extens', 3194), ('foot', 3195), ('friski', 3196), ('grandkid', 3197), ('horizon', 3198), ('knowledg', 3199), ('length', 3200), ('lesser', 3201), ('math', 3202), ('mental', 3203), ('michael', 3204), ('nevertheless', 3205), ('novelti', 3206), ('plug', 3207), ('session', 3208), ('shine', 3209), ('sin', 3210), ('sophist', 3211), ('team', 3212), ('tendenc', 3213), ('thirsti', 3214), ('trigger', 3215), ('vast', 3216), ('whisk', 3217), ('yuban', 3218), ('barbequ', 3219), ('breakag', 3220), ('chest', 3221), ('clip', 3222), ('dingo', 3223), ('helper', 3224), ('hostess', 3225), ('mid', 3226), ('migrain', 3227), ('motiv', 3228), ('nabisco', 3229), ('pez', 3230), ('rehydr', 3231), ('saturday', 3232), ('sawdust', 3233), ('scarf', 3234), ('seltzer', 3235), ('supper', 3236), ('tape', 3237), ('tonic', 3238), ('vibrant', 3239), ('zinc', 3240), ('arrowhead', 3241), ('behold', 3242), ('burrito', 3243), ('dachshund', 3244), ('escap', 3245), ('fyi', 3246), ('gastric', 3247), ('hill', 3248), ('intrigu', 3249), ('knorr', 3250), ('kudo', 3251), ('lard', 3252), ('notifi', 3253), ('par', 3254), ('peak', 3255), ('polici', 3256), ('proof', 3257), ('rain', 3258), ('react', 3259), ('social', 3260), ('spectrum', 3261), ('underton', 3262), ('alik', 3263), ('apolog', 3264), ('brilliant', 3265), ('caveat', 3266), ('central', 3267), ('competitor', 3268), ('gumbal', 3269), ('hed', 3270), ('kava', 3271), ('marinara', 3272), ('nephew', 3273), ('obes', 3274), ('processor', 3275), ('ramun', 3276), ('reusabl', 3277), ('sing', 3278), ('skinless', 3279), ('specifi', 3280), ('staci', 3281), ('treasur', 3282), ('unbeat', 3283), ('visual', 3284), ('ascorb', 3285), ('clif', 3286), ('creek', 3287), ('critter', 3288), ('crock', 3289), ('dedic', 3290), ('distract', 3291), ('distributor', 3292), ('dull', 3293), ('dumpl', 3294), ('educ', 3295), ('foodi', 3296), ('leonida', 3297), ('loyal', 3298), ('lundberg', 3299), ('namast', 3300), ('nuke', 3301), ('ohio', 3302), ('opposit', 3303), ('oyster', 3304), ('reccommend', 3305), ('scari', 3306), ('stiff', 3307), ('towel', 3308), ('uniform', 3309), ('ant', 3310), ('applic', 3311), ('baggi', 3312), ('butterscotch', 3313), ('crop', 3314), ('crusti', 3315), ('defect', 3316), ('definet', 3317), ('discard', 3318), ('discuss', 3319), ('fanat', 3320), ('fulfil', 3321), ('harrog', 3322), ('john', 3323), ('lesson', 3324), ('luscious', 3325), ('marathon', 3326), ('mouss', 3327), ('navita', 3328), ('spirit', 3329), ('teach', 3330), ('thaw', 3331), ('thyme', 3332), ('airi', 3333), ('alfredo', 3334), ('blast', 3335), ('circl', 3336), ('confect', 3337), ('dismay', 3338), ('flea', 3339), ('flexibl', 3340), ('fountain', 3341), ('freshest', 3342), ('germ', 3343), ('glue', 3344), ('golean', 3345), ('mandarin', 3346), ('oral', 3347), ('paul', 3348), ('pile', 3349), ('popchip', 3350), ('proport', 3351), ('realiti', 3352), ('spicier', 3353), ('useless', 3354), ('whoever', 3355), ('aka', 3356), ('booti', 3357), ('chronic', 3358), ('compost', 3359), ('copi', 3360), ('crispbread', 3361), ('dieter', 3362), ('fruitcak', 3363), ('keaton', 3364), ('loma', 3365), ('peet', 3366), ('polish', 3367), ('shoot', 3368), ('unhappi', 3369), ('ziploc', 3370), ('cannist', 3371), ('cigarett', 3372), ('dentist', 3373), ('dvd', 3374), ('enzym', 3375), ('fatten', 3376), ('foul', 3377), ('genet', 3378), ('gripe', 3379), ('heavier', 3380), ('intent', 3381), ('jitteri', 3382), ('neutral', 3383), ('pari', 3384), ('pate', 3385), ('pregnanc', 3386), ('sand', 3387), ('shade', 3388), ('sincer', 3389), ('smokehous', 3390), ('urinari', 3391), ('zinger', 3392), ('ziplock', 3393), ('alaska', 3394), ('albeit', 3395), ('brussel', 3396), ('chestnut', 3397), ('damn', 3398), ('delay', 3399), ('jone', 3400), ('lemoni', 3401), ('maltes', 3402), ('moon', 3403), ('nail', 3404), ('paint', 3405), ('recov', 3406), ('satisfactori', 3407), ('stamp', 3408), ('thirti', 3409), ('war', 3410), ('western', 3411), ('zen', 3412), ('belgium', 3413), ('casein', 3414), ('chlorid', 3415), ('chock', 3416), ('client', 3417), ('dramat', 3418), ('laxat', 3419), ('liner', 3420), ('marzano', 3421), ('millet', 3422), ('prone', 3423), ('reduct', 3424), ('rival', 3425), ('shoe', 3426), ('spoke', 3427), ('sugarless', 3428), ('task', 3429), ('van', 3430), ('vinaigrett', 3431), ('arrang', 3432), ('asleep', 3433), ('behavior', 3434), ('bounc', 3435), ('canadian', 3436), ('cottag', 3437), ('curl', 3438), ('dot', 3439), ('dread', 3440), ('esp', 3441), ('faith', 3442), ('fals', 3443), ('forgotten', 3444), ('ghost', 3445), ('gumbo', 3446), ('lend', 3447), ('nois', 3448), ('partner', 3449), ('scream', 3450), ('staff', 3451), ('strongest', 3452), ('stupid', 3453), ('technic', 3454), ('theme', 3455), ('thier', 3456), ('alright', 3457), ('compound', 3458), ('echinacea', 3459), ('februari', 3460), ('inconveni', 3461), ('invit', 3462), ('jamaican', 3463), ('mediterranean', 3464), ('overton', 3465), ('patch', 3466), ('pirat', 3467), ('precious', 3468), ('prici', 3469), ('progress', 3470), ('rural', 3471), ('shelter', 3472), ('sourdough', 3473), ('squirrel', 3474), ('tetley', 3475), ('unflavor', 3476), ('anxieti', 3477), ('band', 3478), ('barbara', 3479), ('bleach', 3480), ('bloodi', 3481), ('compens', 3482), ('deodor', 3483), ('depress', 3484), ('detox', 3485), ('domest', 3486), ('drag', 3487), ('economi', 3488), ('gnaw', 3489), ('jamaica', 3490), ('laden', 3491), ('mainstream', 3492), ('marbl', 3493), ('mediocr', 3494), ('mesh', 3495), ('newli', 3496), ('novemb', 3497), ('nutro', 3498), ('row', 3499), ('sachet', 3500), ('scissor', 3501), ('sicken', 3502), ('sift', 3503), ('sleepi', 3504), ('spong', 3505), ('sprite', 3506), ('stuffer', 3507), ('tout', 3508), ('ugh', 3509), ('veg', 3510), ('worthi', 3511), ('accomplish', 3512), ('avocado', 3513), ('bolder', 3514), ('built', 3515), ('clue', 3516), ('companion', 3517), ('devic', 3518), ('disast', 3519), ('dogswel', 3520), ('enchilada', 3521), ('firmer', 3522), ('gfcf', 3523), ('kirkland', 3524), ('lap', 3525), ('liquoric', 3526), ('mercuri', 3527), ('mmm', 3528), ('moldi', 3529), ('movement', 3530), ('pho', 3531), ('pilaf', 3532), ('postag', 3533), ('rack', 3534), ('ritual', 3535), ('scottish', 3536), ('septemb', 3537), ('trim', 3538), ('virginia', 3539), ('blind', 3540), ('breadstick', 3541), ('carnivor', 3542), ('creamier', 3543), ('depriv', 3544), ('disapoint', 3545), ('gmo', 3546), ('goldfish', 3547), ('horror', 3548), ('humid', 3549), ('indigest', 3550), ('jazz', 3551), ('mcdougal', 3552), ('modern', 3553), ('palett', 3554), ('papaya', 3555), ('plaqu', 3556), ('poppi', 3557), ('poster', 3558), ('smoothest', 3559), ('soo', 3560), ('sub', 3561), ('subsequ', 3562), ('sum', 3563), ('truck', 3564), ('abund', 3565), ('aggress', 3566), ('albacor', 3567), ('caviar', 3568), ('colli', 3569), ('distanc', 3570), ('drier', 3571), ('eastern', 3572), ('elev', 3573), ('evoo', 3574), ('grace', 3575), ('halv', 3576), ('imho', 3577), ('immens', 3578), ('incorrect', 3579), ('militari', 3580), ('monkey', 3581), ('penn', 3582), ('roof', 3583), ('speedi', 3584), ('swedish', 3585), ('teacher', 3586), ('tootsi', 3587), ('uncook', 3588), ('upsid', 3589), ('vienna', 3590), ('vietnames', 3591), ('wheel', 3592), ('arctic', 3593), ('assist', 3594), ('baconnais', 3595), ('bon', 3596), ('brule', 3597), ('confess', 3598), ('connect', 3599), ('consult', 3600), ('duplic', 3601), ('forth', 3602), ('host', 3603), ('insect', 3604), ('iraq', 3605), ('keeper', 3606), ('maid', 3607), ('midwest', 3608), ('mmmmm', 3609), ('nourish', 3610), ('nutritionist', 3611), ('ovaltin', 3612), ('paneer', 3613), ('presenc', 3614), ('russel', 3615), ('sliver', 3616), ('snif', 3617), ('sweetleaf', 3618), ('techniqu', 3619), ('tocopherol', 3620), ('wisconsin', 3621), ('aerogrow', 3622), ('bittersweet', 3623), ('captur', 3624), ('compact', 3625), ('counterpart', 3626), ('creation', 3627), ('dijon', 3628), ('establish', 3629), ('filet', 3630), ('heartili', 3631), ('hello', 3632), ('henri', 3633), ('hound', 3634), ('integr', 3635), ('liber', 3636), ('mart', 3637), ('melon', 3638), ('moreov', 3639), ('needl', 3640), ('nougat', 3641), ('pasteur', 3642), ('porridg', 3643), ('precis', 3644), ('spell', 3645), ('sri', 3646), ('superfood', 3647), ('tannin', 3648), ('torn', 3649), ('unwrap', 3650), ('wari', 3651), ('wholesal', 3652), ('worthwhil', 3653), ('youngest', 3654), ('airport', 3655), ('caper', 3656), ('crepe', 3657), ('devil', 3658), ('distress', 3659), ('energet', 3660), ('explor', 3661), ('frothi', 3662), ('gari', 3663), ('hmmm', 3664), ('holist', 3665), ('isol', 3666), ('join', 3667), ('jumbo', 3668), ('mar', 3669), ('outlet', 3670), ('pectin', 3671), ('poke', 3672), ('polenta', 3673), ('publix', 3674), ('reveal', 3675), ('sencha', 3676), ('shih', 3677), ('shipper', 3678), ('skinner', 3679), ('stainless', 3680), ('steer', 3681), ('stix', 3682), ('teff', 3683), ('transform', 3684), ('trident', 3685), ('unpop', 3686), ('ziti', 3687), ('anyhow', 3688), ('branch', 3689), ('camper', 3690), ('carolina', 3691), ('certif', 3692), ('chosen', 3693), ('clever', 3694), ('consequ', 3695), ('doorstep', 3696), ('earn', 3697), ('fade', 3698), ('glutino', 3699), ('jewel', 3700), ('kiss', 3701), ('maximum', 3702), ('omaha', 3703), ('panda', 3704), ('pat', 3705), ('polit', 3706), ('remaind', 3707), ('ruth', 3708), ('screen', 3709), ('skinni', 3710), ('slide', 3711), ('stray', 3712), ('tastey', 3713), ('tug', 3714), ('tuscan', 3715), ('asia', 3716), ('athlet', 3717), ('beet', 3718), ('bichon', 3719), ('bust', 3720), ('cast', 3721), ('climat', 3722), ('colombian', 3723), ('countless', 3724), ('decay', 3725), ('embarrass', 3726), ('ginseng', 3727), ('godsend', 3728), ('halvah', 3729), ('larri', 3730), ('meantim', 3731), ('moroccan', 3732), ('music', 3733), ('picnic', 3734), ('pinto', 3735), ('prescrib', 3736), ('recoveri', 3737), ('sacrific', 3738), ('taurin', 3739), ('youth', 3740), ('zealand', 3741), ('altura', 3742), ('barrel', 3743), ('breeder', 3744), ('caffien', 3745), ('cafix', 3746), ('curios', 3747), ('davi', 3748), ('deceiv', 3749), ('dollop', 3750), ('employe', 3751), ('evil', 3752), ('flash', 3753), ('impli', 3754), ('inconsist', 3755), ('jersey', 3756), ('kimchi', 3757), ('lindt', 3758), ('mall', 3759), ('marri', 3760), ('milkshak', 3761), ('millston', 3762), ('particl', 3763), ('pkg', 3764), ('sleepytim', 3765), ('slimi', 3766), ('soooooo', 3767), ('spaniel', 3768), ('speci', 3769), ('spout', 3770), ('steadi', 3771), ('swheat', 3772), ('xanthan', 3773), ('bundl', 3774), ('buri', 3775), ('contrari', 3776), ('currant', 3777), ('knee', 3778), ('lung', 3779), ('margin', 3780), ('mechan', 3781), ('newton', 3782), ('offens', 3783), ('offici', 3784), ('orvill', 3785), ('orzo', 3786), ('pest', 3787), ('prize', 3788), ('reject', 3789), ('ribbon', 3790), ('russian', 3791), ('saponin', 3792), ('schnauzer', 3793), ('shoulder', 3794), ('soba', 3795), ('steamer', 3796), ('til', 3797), ('toilet', 3798), ('upgrad', 3799), ('vega', 3800), ('washington', 3801), ('wouldv', 3802), ('argu', 3803), ('bait', 3804), ('bjs', 3805), ('breastfeed', 3806), ('champagn', 3807), ('closet', 3808), ('cotton', 3809), ('deeper', 3810), ('deepli', 3811), ('expedit', 3812), ('explod', 3813), ('foreign', 3814), ('format', 3815), ('fuller', 3816), ('guava', 3817), ('halfway', 3818), ('holi', 3819), ('killer', 3820), ('leeper', 3821), ('mistaken', 3822), ('pipe', 3823), ('presum', 3824), ('privat', 3825), ('puck', 3826), ('puzzl', 3827), ('quest', 3828), ('replic', 3829), ('rot', 3830), ('saccharin', 3831), ('scene', 3832), ('sensibl', 3833), ('skill', 3834), ('sticker', 3835), ('teeccino', 3836), ('tomorrow', 3837), ('tricki', 3838), ('turmer', 3839), ('unknown', 3840), ('usp', 3841), ('warmer', 3842), ('worthington', 3843), ('yep', 3844), ('bound', 3845), ('communic', 3846), ('dal', 3847), ('frig', 3848), ('frontier', 3849), ('gassi', 3850), ('guid', 3851), ('hormel', 3852), ('lawri', 3853), ('lowfat', 3854), ('lunchbox', 3855), ('monosodium', 3856), ('phase', 3857), ('pooch', 3858), ('pretend', 3859), ('slightest', 3860), ('ting', 3861), ('tom', 3862), ('tunnel', 3863), ('annual', 3864), ('caribou', 3865), ('ceram', 3866), ('cet', 3867), ('compel', 3868), ('copper', 3869), ('dec', 3870), ('decept', 3871), ('discoveri', 3872), ('dissappoint', 3873), ('fatigu', 3874), ('fifti', 3875), ('goo', 3876), ('icki', 3877), ('isl', 3878), ('kamut', 3879), ('lee', 3880), ('massiv', 3881), ('monin', 3882), ('offset', 3883), ('orbit', 3884), ('predomin', 3885), ('queen', 3886), ('saucepan', 3887), ('shim', 3888), ('snapper', 3889), ('spark', 3890), ('undrink', 3891), ('wasa', 3892), ('wee', 3893), ('weruva', 3894), ('worker', 3895), ('amongst', 3896), ('begun', 3897), ('boast', 3898), ('cash', 3899), ('chewier', 3900), ('clinic', 3901), ('crude', 3902), ('elig', 3903), ('estat', 3904), ('festiv', 3905), ('flight', 3906), ('flimsi', 3907), ('gray', 3908), ('guar', 3909), ('harmoni', 3910), ('heartburn', 3911), ('introduct', 3912), ('investig', 3913), ('labor', 3914), ('lotus', 3915), ('milka', 3916), ('nong', 3917), ('nope', 3918), ('pepperoni', 3919), ('peter', 3920), ('procedur', 3921), ('rat', 3922), ('river', 3923), ('sandi', 3924), ('shift', 3925), ('skippi', 3926), ('snail', 3927), ('stood', 3928), ('tweak', 3929), ('underneath', 3930), ('unnatur', 3931), ('vegemit', 3932), ('aussi', 3933), ('baldwin', 3934), ('belong', 3935), ('cappucino', 3936), ('cincinnati', 3937), ('colour', 3938), ('deer', 3939), ('elbow', 3940), ('endur', 3941), ('extraordinari', 3942), ('fillet', 3943), ('fong', 3944), ('hotdog', 3945), ('inclin', 3946), ('irresist', 3947), ('kefir', 3948), ('las', 3949), ('lotion', 3950), ('mama', 3951), ('modest', 3952), ('monday', 3953), ('overbear', 3954), ('peterson', 3955), ('replenish', 3956), ('role', 3957), ('scotland', 3958), ('seper', 3959), ('sloppi', 3960), ('spin', 3961), ('spous', 3962), ('status', 3963), ('sue', 3964), ('tobasco', 3965), ('wean', 3966), ('allevi', 3967), ('await', 3968), ('award', 3969), ('battl', 3970), ('bentley', 3971), ('bonito', 3972), ('boylan', 3973), ('brian', 3974), ('bypass', 3975), ('chick', 3976), ('dalfour', 3977), ('dextros', 3978), ('diamet', 3979), ('drastic', 3980), ('ecstat', 3981), ('exagger', 3982), ('fluff', 3983), ('glove', 3984), ('horrid', 3985), ('huckleberri', 3986), ('independ', 3987), ('kipper', 3988), ('novel', 3989), ('pediatrician', 3990), ('portland', 3991), ('rep', 3992), ('revers', 3993), ('shelti', 3994), ('shove', 3995), ('sorbitol', 3996), ('suitcas', 3997), ('sulfat', 3998), ('supervis', 3999), ('swim', 4000), ('upper', 4001), ('velvet', 4002), ('vernor', 4003), ('wooden', 4004), ('accent', 4005), ('alfalfa', 4006), ('amaretto', 4007), ('bisquick', 4008), ('bulldog', 4009), ('bullet', 4010), ('burr', 4011), ('cellophan', 4012), ('colon', 4013), ('explan', 4014), ('flatten', 4015), ('froze', 4016), ('garbanzo', 4017), ('herring', 4018), ('lanka', 4019), ('lifetim', 4020), ('lousi', 4021), ('mainten', 4022), ('oak', 4023), ('orangina', 4024), ('pebbl', 4025), ('prohibit', 4026), ('safflow', 4027), ('scientif', 4028), ('sugarfre', 4029), ('sumatran', 4030), ('summari', 4031), ('visibl', 4032), ('walgreen', 4033), ('advers', 4034), ('amus', 4035), ('backyard', 4036), ('ban', 4037), ('birth', 4038), ('blackcurr', 4039), ('bravo', 4040), ('cabbag', 4041), ('caesar', 4042), ('caribbean', 4043), ('chewabl', 4044), ('craft', 4045), ('dioxid', 4046), ('disguis', 4047), ('forgiv', 4048), ('furnitur', 4049), ('gin', 4050), ('honor', 4051), ('lather', 4052), ('lawn', 4053), ('lil', 4054), ('lookout', 4055), ('multi', 4056), ('orgin', 4057), ('owe', 4058), ('popul', 4059), ('provinc', 4060), ('resid', 4061), ('scotch', 4062), ('shi', 4063), ('stun', 4064), ('timer', 4065), ('trueli', 4066), ('twig', 4067), ('unsur', 4068), ('wolfgang', 4069), ('yummyearth', 4070), ('yunnan', 4071), ('aloha', 4072), ('asthma', 4073), ('bengal', 4074), ('casual', 4075), ('cautious', 4076), ('chair', 4077), ('crappi', 4078), ('davinci', 4079), ('dew', 4080), ('disturb', 4081), ('fedex', 4082), ('fertil', 4083), ('frapp', 4084), ('ghiradelli', 4085), ('howard', 4086), ('infest', 4087), ('kenya', 4088), ('legal', 4089), ('manual', 4090), ('mmmmmm', 4091), ('mount', 4092), ('narrow', 4093), ('ole', 4094), ('overdo', 4095), ('patak', 4096), ('pike', 4097), ('pillow', 4098), ('realist', 4099), ('receipt', 4100), ('seldom', 4101), ('shall', 4102), ('shin', 4103), ('sock', 4104), ('spite', 4105), ('stabil', 4106), ('sunshin', 4107), ('surpass', 4108), ('switzerland', 4109), ('syndrom', 4110), ('ticket', 4111), ('toasti', 4112), ('unbleach', 4113), ('unprocess', 4114), ('yuk', 4115), ('artisan', 4116), ('beaten', 4117), ('brief', 4118), ('cheez', 4119), ('chickpea', 4120), ('clover', 4121), ('collard', 4122), ('duti', 4123), ('eggplant', 4124), ('houston', 4125), ('jerkey', 4126), ('kernal', 4127), ('marketspic', 4128), ('mission', 4129), ('mist', 4130), ('nearest', 4131), ('orchard', 4132), ('phosphat', 4133), ('presid', 4134), ('rasberri', 4135), ('rotten', 4136), ('rout', 4137), ('salami', 4138), ('saltier', 4139), ('suffic', 4140), ('suppress', 4141), ('trainer', 4142), ('translat', 4143), ('valerian', 4144), ('vigor', 4145), ('yike', 4146), ('acn', 4147), ('adam', 4148), ('affili', 4149), ('alec', 4150), ('attest', 4151), ('barista', 4152), ('bragg', 4153), ('bum', 4154), ('canning', 4155), ('cornstarch', 4156), ('defeat', 4157), ('disk', 4158), ('enabl', 4159), ('falafel', 4160), ('fox', 4161), ('fudgi', 4162), ('goya', 4163), ('gut', 4164), ('huski', 4165), ('itd', 4166), ('magnolia', 4167), ('maltitol', 4168), ('maltodextrin', 4169), ('manhattan', 4170), ('overflow', 4171), ('pant', 4172), ('parchment', 4173), ('pomeranian', 4174), ('pricier', 4175), ('prioriti', 4176), ('purist', 4177), ('repel', 4178), ('retir', 4179), ('sacrif', 4180), ('smear', 4181), ('sorghum', 4182), ('stevita', 4183), ('tuck', 4184), ('turtl', 4185), ('whiskey', 4186), ('whop', 4187), ('aficionado', 4188), ('astring', 4189), ('disclaim', 4190), ('dude', 4191), ('engin', 4192), ('evolut', 4193), ('explos', 4194), ('flame', 4195), ('govern', 4196), ('hefti', 4197), ('himalayan', 4198), ('incid', 4199), ('incident', 4200), ('insur', 4201), ('lumpi', 4202), ('medley', 4203), ('nap', 4204), ('nippl', 4205), ('ought', 4206), ('overload', 4207), ('plane', 4208), ('pun', 4209), ('resourc', 4210), ('sack', 4211), ('semolina', 4212), ('shorter', 4213), ('shrink', 4214), ('tamarind', 4215), ('tetra', 4216), ('wedg', 4217), ('bout', 4218), ('brandi', 4219), ('bustelo', 4220), ('castor', 4221), ('catfood', 4222), ('chariti', 4223), ('chebe', 4224), ('experiment', 4225), ('huh', 4226), ('ib', 4227), ('jan', 4228), ('knead', 4229), ('lara', 4230), ('los', 4231), ('nerv', 4232), ('noon', 4233), ('receip', 4234), ('refridger', 4235), ('riboflavin', 4236), ('rockstar', 4237), ('shirataki', 4238), ('tarter', 4239), ('tequila', 4240), ('theatr', 4241), ('tore', 4242), ('tougher', 4243), ('toxin', 4244), ('udon', 4245), ('whiska', 4246), ('woodi', 4247), ('yolk', 4248), ('adagio', 4249), ('aerat', 4250), ('amaranth', 4251), ('angelina', 4252), ('attitud', 4253), ('baklava', 4254), ('bing', 4255), ('boxer', 4256), ('caraway', 4257), ('cauliflow', 4258), ('cherrybrook', 4259), ('chomp', 4260), ('chuck', 4261), ('cloudi', 4262), ('complic', 4263), ('congest', 4264), ('dandi', 4265), ('eagl', 4266), ('eclips', 4267), ('feeder', 4268), ('fianc', 4269), ('file', 4270), ('flaw', 4271), ('graduat', 4272), ('guacamol', 4273), ('hartz', 4274), ('hat', 4275), ('heritag', 4276), ('interact', 4277), ('invigor', 4278), ('journal', 4279), ('kelp', 4280), ('lessen', 4281), ('log', 4282), ('menadion', 4283), ('miser', 4284), ('nonfat', 4285), ('nuanc', 4286), ('porch', 4287), ('porcini', 4288), ('possess', 4289), ('pucker', 4290), ('radic', 4291), ('regist', 4292), ('richest', 4293), ('roommat', 4294), ('sigh', 4295), ('taint', 4296), ('thread', 4297), ('toothpast', 4298), ('tzu', 4299), ('upscal', 4300), ('veterinarian', 4301), ('zap', 4302), ('zucchini', 4303), ('anniversari', 4304), ('ara', 4305), ('aspen', 4306), ('barney', 4307), ('bisqu', 4308), ('bladder', 4309), ('cocker', 4310), ('construct', 4311), ('crockpot', 4312), ('damp', 4313), ('debat', 4314), ('drool', 4315), ('ebay', 4316), ('euro', 4317), ('evalu', 4318), ('fallen', 4319), ('gal', 4320), ('garag', 4321), ('genius', 4322), ('haha', 4323), ('hardest', 4324), ('homegrown', 4325), ('hometown', 4326), ('hop', 4327), ('itchi', 4328), ('journey', 4329), ('justic', 4330), ('lightweight', 4331), ('logo', 4332), ('mous', 4333), ('newer', 4334), ('nostalgia', 4335), ('seep', 4336), ('shampoo', 4337), ('solo', 4338), ('swell', 4339), ('tuesday', 4340), ('verifi', 4341), ('violet', 4342), ('wick', 4343), ('asin', 4344), ('bias', 4345), ('breadmak', 4346), ('chalk', 4347), ('cobbler', 4348), ('escargot', 4349), ('grandpa', 4350), ('harney', 4351), ('heartier', 4352), ('highland', 4353), ('honeybush', 4354), ('humbl', 4355), ('inc', 4356), ('induc', 4357), ('jeremiah', 4358), ('ldl', 4359), ('leeri', 4360), ('lunchtim', 4361), ('matur', 4362), ('micro', 4363), ('optim', 4364), ('parisian', 4365), ('primal', 4366), ('pros', 4367), ('reformul', 4368), ('scallop', 4369), ('sherri', 4370), ('slower', 4371), ('spiral', 4372), ('sublim', 4373), ('taught', 4374), ('tingl', 4375), ('triscuit', 4376), ('usag', 4377), ('valuabl', 4378), ('whiff', 4379), ('zatarain', 4380), ('autism', 4381), ('bistro', 4382), ('blew', 4383), ('broil', 4384), ('charcoal', 4385), ('chore', 4386), ('chug', 4387), ('combat', 4388), ('declin', 4389), ('defrost', 4390), ('diminish', 4391), ('dorito', 4392), ('dorm', 4393), ('franci', 4394), ('furthermor', 4395), ('hay', 4396), ('hunk', 4397), ('huy', 4398), ('inventori', 4399), ('jiffi', 4400), ('kaviar', 4401), ('leagu', 4402), ('longest', 4403), ('mcdonald', 4404), ('necess', 4405), ('nerd', 4406), ('network', 4407), ('offend', 4408), ('particip', 4409), ('persist', 4410), ('pin', 4411), ('piti', 4412), ('placebo', 4413), ('plantat', 4414), ('pocki', 4415), ('pool', 4416), ('prepackag', 4417), ('prolong', 4418), ('publish', 4419), ('recogniz', 4420), ('religi', 4421), ('rocki', 4422), ('rubi', 4423), ('shopper', 4424), ('smith', 4425), ('stare', 4426), ('thermo', 4427), ('twinki', 4428), ('uncomfort', 4429), ('vegi', 4430), ('verona', 4431), ('weed', 4432), ('yam', 4433), ('arthur', 4434), ('astound', 4435), ('attend', 4436), ('blade', 4437), ('boss', 4438), ('bump', 4439), ('butt', 4440), ('byproduct', 4441), ('choco', 4442), ('clarifi', 4443), ('clearanc', 4444), ('compass', 4445), ('deduct', 4446), ('defici', 4447), ('del', 4448), ('dusti', 4449), ('enorm', 4450), ('episod', 4451), ('ethic', 4452), ('ethnic', 4453), ('examin', 4454), ('feta', 4455), ('folic', 4456), ('grandpar', 4457), ('inflamm', 4458), ('inflat', 4459), ('inhibit', 4460), ('input', 4461), ('jacob', 4462), ('labrador', 4463), ('lace', 4464), ('lord', 4465), ('luci', 4466), ('nutrasweet', 4467), ('outcom', 4468), ('peru', 4469), ('pickiest', 4470), ('pollen', 4471), ('preschool', 4472), ('reader', 4473), ('ryder', 4474), ('scrap', 4475), ('scrub', 4476), ('solubl', 4477), ('song', 4478), ('southwest', 4479), ('sulfur', 4480), ('technolog', 4481), ('toni', 4482), ('tupperwar', 4483), ('ugli', 4484), ('undoubt', 4485), ('ventur', 4486), ('vinegari', 4487), ('wallet', 4488), ('watt', 4489), ('woke', 4490), ('assembl', 4491), ('basement', 4492), ('bast', 4493), ('bounci', 4494), ('brainer', 4495), ('burner', 4496), ('cavend', 4497), ('cigar', 4498), ('clock', 4499), ('compart', 4500), ('cornmeal', 4501), ('crunchier', 4502), ('cuisinart', 4503), ('dagoba', 4504), ('danish', 4505), ('detract', 4506), ('devot', 4507), ('flavonoid', 4508), ('gadget', 4509), ('germin', 4510), ('gnat', 4511), ('gooseberri', 4512), ('greyhound', 4513), ('groat', 4514), ('harri', 4515), ('height', 4516), ('highlight', 4517), ('interior', 4518), ('novic', 4519), ('pak', 4520), ('pasti', 4521), ('payday', 4522), ('perish', 4523), ('perspect', 4524), ('promin', 4525), ('promo', 4526), ('ramyun', 4527), ('robert', 4528), ('ryvita', 4529), ('sahal', 4530), ('saus', 4531), ('sucros', 4532), ('thyroid', 4533), ('unwant', 4534), ('visitor', 4535), ('voic', 4536), ('waistlin', 4537), ('william', 4538), ('alarm', 4539), ('alittl', 4540), ('ampl', 4541), ('angri', 4542), ('blog', 4543), ('brine', 4544), ('buffet', 4545), ('cha', 4546), ('chakra', 4547), ('choclat', 4548), ('colada', 4549), ('comedi', 4550), ('compress', 4551), ('condition', 4552), ('cruis', 4553), ('dean', 4554), ('delicaci', 4555), ('demonstr', 4556), ('dinosaur', 4557), ('eco', 4558), ('ese', 4559), ('eukanuba', 4560), ('fajita', 4561), ('feral', 4562), ('foami', 4563), ('glace', 4564), ('granni', 4565), ('hagen', 4566), ('impuls', 4567), ('inject', 4568), ('lieu', 4569), ('loop', 4570), ('meringu', 4571), ('mommi', 4572), ('mond', 4573), ('mound', 4574), ('nantucket', 4575), ('nowaday', 4576), ('omit', 4577), ('percol', 4578), ('pina', 4579), ('pom', 4580), ('pralin', 4581), ('premier', 4582), ('rash', 4583), ('ripen', 4584), ('sec', 4585), ('silicon', 4586), ('slap', 4587), ('slather', 4588), ('soldier', 4589), ('stalk', 4590), ('standbi', 4591), ('topic', 4592), ('ulcer', 4593), ('variti', 4594), ('vit', 4595), ('waist', 4596), ('walker', 4597), ('wander', 4598), ('wave', 4599), ('wegman', 4600), ('yea', 4601), ('akin', 4602), ('analysi', 4603), ('asap', 4604), ('bizarr', 4605), ('bourbon', 4606), ('bow', 4607), ('britain', 4608), ('cactus', 4609), ('candl', 4610), ('cfh', 4611), ('contest', 4612), ('creatur', 4613), ('cytomax', 4614), ('dawn', 4615), ('discourag', 4616), ('equat', 4617), ('erewhon', 4618), ('exposur', 4619), ('feb', 4620), ('fifth', 4621), ('footbal', 4622), ('foster', 4623), ('foundat', 4624), ('gosh', 4625), ('greet', 4626), ('hazlenut', 4627), ('hmm', 4628), ('hungarian', 4629), ('idiot', 4630), ('igourmet', 4631), ('improp', 4632), ('instal', 4633), ('insul', 4634), ('jane', 4635), ('languag', 4636), ('leach', 4637), ('legend', 4638), ('maggi', 4639), ('mortar', 4640), ('motion', 4641), ('neglig', 4642), ('oprah', 4643), ('pam', 4644), ('panko', 4645), ('patienc', 4646), ('pete', 4647), ('phosphor', 4648), ('phosphorus', 4649), ('predict', 4650), ('preheat', 4651), ('raini', 4652), ('regimen', 4653), ('restock', 4654), ('rim', 4655), ('rosehip', 4656), ('rude', 4657), ('saco', 4658), ('scientist', 4659), ('slipperi', 4660), ('stringi', 4661), ('struck', 4662), ('tamari', 4663), ('teeni', 4664), ('temporari', 4665), ('toll', 4666), ('trio', 4667), ('unimpress', 4668), ('westi', 4669), ('whichev', 4670), ('wider', 4671), ('winona', 4672), ('withdraw', 4673), ('albertson', 4674), ('alton', 4675), ('assert', 4676), ('autumn', 4677), ('baja', 4678), ('boat', 4679), ('boullion', 4680), ('bummer', 4681), ('buster', 4682), ('climb', 4683), ('clumpi', 4684), ('cod', 4685), ('conclud', 4686), ('controversi', 4687), ('cozi', 4688), ('dimens', 4689), ('dixi', 4690), ('enclos', 4691), ('export', 4692), ('frito', 4693), ('glanc', 4694), ('greec', 4695), ('inquir', 4696), ('instinct', 4697), ('interfer', 4698), ('irregular', 4699), ('linguin', 4700), ('lion', 4701), ('madagascar', 4702), ('madra', 4703), ('magnific', 4704), ('molecul', 4705), ('nido', 4706), ('northwest', 4707), ('nostalg', 4708), ('okra', 4709), ('omelet', 4710), ('pedigre', 4711), ('plagu', 4712), ('ploy', 4713), ('pre', 4714), ('recom', 4715), ('recreat', 4716), ('slam', 4717), ('starchi', 4718), ('tamal', 4719), ('thiamin', 4720), ('thigh', 4721), ('tulsi', 4722), ('wanna', 4723), ('wimpi', 4724), ('allot', 4725), ('amish', 4726), ('atom', 4727), ('boutiqu', 4728), ('brace', 4729), ('calcul', 4730), ('cesar', 4731), ('channel', 4732), ('command', 4733), ('confection', 4734), ('coriand', 4735), ('couch', 4736), ('deterior', 4737), ('diedrich', 4738), ('dishwash', 4739), ('divers', 4740), ('dosag', 4741), ('driver', 4742), ('drown', 4743), ('dynasti', 4744), ('enthusiasm', 4745), ('fondu', 4746), ('geena', 4747), ('georgia', 4748), ('graphic', 4749), ('grower', 4750), ('houtt', 4751), ('hygien', 4752), ('inevit', 4753), ('insomnia', 4754), ('keebler', 4755), ('lane', 4756), ('lifelong', 4757), ('limp', 4758), ('melamin', 4759), ('merchandis', 4760), ('motto', 4761), ('naan', 4762), ('nightmar', 4763), ('nov', 4764), ('occassion', 4765), ('overcom', 4766), ('pharmaci', 4767), ('pliabl', 4768), ('pollux', 4769), ('powerbar', 4770), ('pulver', 4771), ('quirki', 4772), ('raccoon', 4773), ('rectangular', 4774), ('relationship', 4775), ('renal', 4776), ('retro', 4777), ('sage', 4778), ('scout', 4779), ('server', 4780), ('simpler', 4781), ('snappl', 4782), ('sojo', 4783), ('spreadabl', 4784), ('sunbutt', 4785), ('tan', 4786), ('thoma', 4787), ('transpar', 4788), ('undamag', 4789), ('usabl', 4790), ('yoga', 4791), ('angl', 4792), ('balm', 4793), ('belief', 4794), ('belt', 4795), ('bent', 4796), ('blockag', 4797), ('brit', 4798), ('carr', 4799), ('cascadian', 4800), ('chana', 4801), ('clariti', 4802), ('colleagu', 4803), ('conserv', 4804), ('corgi', 4805), ('cring', 4806), ('dashi', 4807), ('declar', 4808), ('diner', 4809), ('discomfort', 4810), ('disolv', 4811), ('dug', 4812), ('estrogen', 4813), ('fever', 4814), ('fifteen', 4815), ('fixtur', 4816), ('fruition', 4817), ('ganach', 4818), ('gentleas', 4819), ('harbor', 4820), ('hardi', 4821), ('hoard', 4822), ('hollow', 4823), ('hung', 4824), ('laboratori', 4825), ('lame', 4826), ('landfil', 4827), ('luv', 4828), ('mae', 4829), ('maui', 4830), ('membership', 4831), ('muddi', 4832), ('nauseat', 4833), ('nip', 4834), ('panel', 4835), ('plunger', 4836), ('polyphenol', 4837), ('pride', 4838), ('purifi', 4839), ('ray', 4840), ('riceselect', 4841), ('satifi', 4842), ('setup', 4843), ('sheer', 4844), ('silken', 4845), ('simplifi', 4846), ('smoker', 4847), ('smucker', 4848), ('sneez', 4849), ('spa', 4850), ('splendid', 4851), ('strand', 4852), ('summertim', 4853), ('sunni', 4854), ('tension', 4855), ('theori', 4856), ('tour', 4857), ('trend', 4858), ('unaccept', 4859), ('vouch', 4860), ('wisdom', 4861), ('worcestershir', 4862), ('worldwid', 4863), ('wysong', 4864), ('abus', 4865), ('aero', 4866), ('aesthet', 4867), ('agar', 4868), ('americano', 4869), ('boyarde', 4870), ('cleanup', 4871), ('cloud', 4872), ('conduct', 4873), ('coomb', 4874), ('def', 4875), ('depot', 4876), ('distil', 4877), ('down', 4878), ('drawn', 4879), ('drugstor', 4880), ('edamam', 4881), ('eleven', 4882), ('fascin', 4883), ('forti', 4884), ('frame', 4885), ('fusion', 4886), ('gnocchi', 4887), ('holland', 4888), ('husk', 4889), ('hyper', 4890), ('illeg', 4891), ('influenc', 4892), ('joseph', 4893), ('korma', 4894), ('lightn', 4895), ('masterpiec', 4896), ('meali', 4897), ('mesquit', 4898), ('minestron', 4899), ('musti', 4900), ('mutt', 4901), ('oberto', 4902), ('optimum', 4903), ('progresso', 4904), ('quencher', 4905), ('render', 4906), ('rhubarb', 4907), ('ritter', 4908), ('roach', 4909), ('seam', 4910), ('shopp', 4911), ('spendi', 4912), ('spongi', 4913), ('squish', 4914), ('storm', 4915), ('swanson', 4916), ('tank', 4917), ('terra', 4918), ('tobacco', 4919), ('undesir', 4920), ('vase', 4921), ('wikipedia', 4922), ('zipper', 4923), ('abandon', 4924), ('absenc', 4925), ('beefi', 4926), ('bergin', 4927), ('breastmilk', 4928), ('brows', 4929), ('burp', 4930), ('butterfing', 4931), ('cakest', 4932), ('cliff', 4933), ('coincid', 4934), ('conscienc', 4935), ('creol', 4936), ('delet', 4937), ('discolor', 4938), ('downright', 4939), ('drove', 4940), ('duh', 4941), ('duncan', 4942), ('egcg', 4943), ('eon', 4944), ('era', 4945), ('exhaust', 4946), ('familia', 4947), ('flesh', 4948), ('glenni', 4949), ('haul', 4950), ('heb', 4951), ('inn', 4952), ('meanwhil', 4953), ('memor', 4954), ('napa', 4955), ('nylon', 4956), ('overlook', 4957), ('paella', 4958), ('pattern', 4959), ('platter', 4960), ('potti', 4961), ('puriti', 4962), ('purveyor', 4963), ('runner', 4964), ('scatter', 4965), ('semi', 4966), ('shepard', 4967), ('societi', 4968), ('someday', 4969), ('succeed', 4970), ('sylvia', 4971), ('symbol', 4972), ('tame', 4973), ('teavana', 4974), ('tenni', 4975), ('trunk', 4976), ('unapp', 4977), ('unappet', 4978), ('vile', 4979), ('warmth', 4980), ('wintergreen', 4981), ('zhena', 4982), ('arteri', 4983), ('ash', 4984), ('asham', 4985), ('atop', 4986), ('bam', 4987), ('bat', 4988), ('beignet', 4989), ('brazilian', 4990), ('breadcrumb', 4991), ('brighter', 4992), ('chemistri', 4993), ('commut', 4994), ('convien', 4995), ('cooper', 4996), ('cous', 4997), ('cultiv', 4998), ('dealer', 4999), ('decaffin', 5000)])"
      ]
     },
     "execution_count": 12,
     "metadata": {},
     "output_type": "execute_result"
    }
   ],
   "source": [
    "word_count_sorted.items()"
   ]
  },
  {
   "cell_type": "code",
   "execution_count": 13,
   "metadata": {},
   "outputs": [
    {
     "data": {
      "text/plain": [
       "3"
      ]
     },
     "execution_count": 13,
     "metadata": {},
     "output_type": "execute_result"
    }
   ],
   "source": [
    "word_count_sorted.get('good',0) #Get the id . If not id than default 0"
   ]
  },
  {
   "cell_type": "code",
   "execution_count": 14,
   "metadata": {},
   "outputs": [],
   "source": [
    "# Refer sklearn count-veectorizer build_analyzer to convert sentence into tokens .\n",
    "#https://scikit-learn.org/stable/modules/generated/sklearn.feature_extraction.text.CountVectorizer.html#sklearn.feature_extraction.text.CountVectorizer.build_analyzer\n",
    "\n",
    "tokenizer = count_vec.build_analyzer()"
   ]
  },
  {
   "cell_type": "code",
   "execution_count": 15,
   "metadata": {},
   "outputs": [
    {
     "name": "stderr",
     "output_type": "stream",
     "text": [
      "100%|██████████| 100000/100000 [00:02<00:00, 47492.27it/s]\n"
     ]
    }
   ],
   "source": [
    "# Converting each sentences into tokens and passing tokens to get ids of the words .\n",
    "\n",
    "sentence_ids = []\n",
    "for line in tqdm(reviews_100k['CleanedText'].values) :\n",
    "    sentence = []\n",
    "    for x in tokenizer(line):\n",
    "        sentence.append( word_count_sorted.get(x,0) )\n",
    "        \n",
    "    sentence_ids.append(sentence)\n",
    "        "
   ]
  },
  {
   "cell_type": "code",
   "execution_count": 16,
   "metadata": {},
   "outputs": [
    {
     "data": {
      "text/plain": [
       "(100000,)"
      ]
     },
     "execution_count": 16,
     "metadata": {},
     "output_type": "execute_result"
    }
   ],
   "source": [
    "sentence_ids = np.array(sentence_ids)\n",
    "sentence_ids.shape"
   ]
  },
  {
   "cell_type": "code",
   "execution_count": 17,
   "metadata": {},
   "outputs": [
    {
     "data": {
      "text/plain": [
       "[0,\n",
       " 29,\n",
       " 897,\n",
       " 12,\n",
       " 327,\n",
       " 2377,\n",
       " 3007,\n",
       " 0,\n",
       " 1075,\n",
       " 1208,\n",
       " 534,\n",
       " 106,\n",
       " 3278,\n",
       " 0,\n",
       " 868,\n",
       " 808,\n",
       " 0,\n",
       " 1458,\n",
       " 0,\n",
       " 10,\n",
       " 195,\n",
       " 799,\n",
       " 897,\n",
       " 968,\n",
       " 2886,\n",
       " 1109,\n",
       " 897,\n",
       " 1578,\n",
       " 1813,\n",
       " 327,\n",
       " 91,\n",
       " 256,\n",
       " 0,\n",
       " 1261,\n",
       " 1620]"
      ]
     },
     "execution_count": 17,
     "metadata": {},
     "output_type": "execute_result"
    }
   ],
   "source": [
    "sentence_ids[0]"
   ]
  },
  {
   "cell_type": "markdown",
   "metadata": {},
   "source": [
    "### Splitting data :"
   ]
  },
  {
   "cell_type": "code",
   "execution_count": 18,
   "metadata": {},
   "outputs": [
    {
     "name": "stdout",
     "output_type": "stream",
     "text": [
      "70000\n",
      "70000\n",
      "30000\n",
      "30000\n"
     ]
    }
   ],
   "source": [
    "from sklearn import model_selection\n",
    "\n",
    "reviews_train, reviews_test, reviews_score_train , reviews_score_test = model_selection.train_test_split(sentence_ids, reviews_100k_score, test_size=0.3, random_state=0)\n",
    "print (len(reviews_train))\n",
    "print (len(reviews_score_train))\n",
    "print (len(reviews_test))\n",
    "print (len(reviews_score_test))"
   ]
  },
  {
   "cell_type": "code",
   "execution_count": 19,
   "metadata": {},
   "outputs": [
    {
     "name": "stdout",
     "output_type": "stream",
     "text": [
      "(70000, 500)\n",
      "[   0    0    0    0    0    0    0    0    0    0    0    0    0    0\n",
      "    0    0    0    0    0    0    0    0    0    0    0    0    0    0\n",
      "    0    0    0    0    0    0    0    0    0    0    0    0    0    0\n",
      "    0    0    0    0    0    0    0    0    0    0    0    0    0    0\n",
      "    0    0    0    0    0    0    0    0    0    0    0    0    0    0\n",
      "    0    0    0    0    0    0    0    0    0    0    0    0    0    0\n",
      "    0    0    0    0    0    0    0    0    0    0    0    0    0    0\n",
      "    0    0    0    0    0    0    0    0    0    0    0    0    0    0\n",
      "    0    0    0    0    0    0    0    0    0    0    0    0    0    0\n",
      "    0    0    0    0    0    0    0    0    0    0    0    0    0    0\n",
      "    0    0    0    0    0    0    0    0    0    0    0    0    0    0\n",
      "    0    0    0    0    0    0    0    0    0    0    0    0    0    0\n",
      "    0    0    0    0    0    0    0    0    0    0    0    0    0    0\n",
      "    0    0    0    0    0    0    0    0    0    0    0    0    0    0\n",
      "    0    0    0    0    0    0    0    0    0    0    0    0    0    0\n",
      "    0    0    0    0    0    0    0    0    0    0    0    0    0    0\n",
      "    0    0    0    0    0    0    0    0    0    0    0    0    0    0\n",
      "    0    0    0    0    0    0    0    0    0    0    0    0    0    0\n",
      "    0    0    0    0    0    0    0    0    0    0    0    0    0    0\n",
      "    0    0    0    0    0    0    0    0    0    0    0    0    0    0\n",
      "    0    0    0    0    0    0    0    0    0    0    0    0    0    0\n",
      "    0    0    0    0    0    0    0    0    0    0    0    0    0    0\n",
      "    0    0    0    0    0    0    0    0    0    0    0    0    0    0\n",
      "    0    0    0    0    0    0    0    0    0    0    0    0    0    0\n",
      "    0    0    0    0    0    0    0    0    0    0    0    0    0    0\n",
      "    0    0    0    0    0    0    0    0    0    0    0    0    0    0\n",
      "    0    0    0    0    0    0    0    0    0    0    0    0    0    0\n",
      "    0    0    0    0    0    0    0    0    0    0    0    0    0    0\n",
      "    0    0    0    0    0    0    0    0    0    0    0    0    0    0\n",
      "    0    0    0    0    0    0    0    0    0    0    0    0    0    0\n",
      "    0    0    0    0    0    0    0    0    0    0    0    0    0    0\n",
      "    0    0    0    0    0    0    0    0  236   85 3017   87  102   32\n",
      "   98  192   87   66  171  237 1398   87  102  680  265   87  265   10\n",
      "    2   24   11   87  102  136  455    9  648  437  170  145  143 1665\n",
      "   13 2494 1357  207  142  365  860   19   85  367  169 1977 3071  367\n",
      "   48  618   10   87  102  367    4    6    9  481]\n"
     ]
    }
   ],
   "source": [
    "max_review_length = 500\n",
    "X_train = sequence.pad_sequences(reviews_train, maxlen=max_review_length)\n",
    "X_test = sequence.pad_sequences(reviews_test, maxlen=max_review_length)\n",
    "\n",
    "print(X_train.shape)\n",
    "print(X_train[1])"
   ]
  },
  {
   "cell_type": "code",
   "execution_count": 66,
   "metadata": {},
   "outputs": [
    {
     "name": "stdout",
     "output_type": "stream",
     "text": [
      "_________________________________________________________________\n",
      "Layer (type)                 Output Shape              Param #   \n",
      "=================================================================\n",
      "embedding_2 (Embedding)      (None, 500, 32)           160032    \n",
      "_________________________________________________________________\n",
      "lstm_3 (LSTM)                (None, 500, 100)          53200     \n",
      "_________________________________________________________________\n",
      "lstm_4 (LSTM)                (None, 100)               80400     \n",
      "_________________________________________________________________\n",
      "dense_2 (Dense)              (None, 1)                 101       \n",
      "=================================================================\n",
      "Total params: 293,733\n",
      "Trainable params: 293,733\n",
      "Non-trainable params: 0\n",
      "_________________________________________________________________\n",
      "None\n"
     ]
    }
   ],
   "source": [
    "embedding_vecor_length = 32\n",
    "model = Sequential()\n",
    "model.add(Embedding(5000+1, embedding_vecor_length, input_length=max_review_length))\n",
    "model.add(LSTM(100,return_sequences=True))\n",
    "model.add(LSTM(100))\n",
    "model.add(Dense(1, activation='sigmoid'))\n",
    "model.compile(loss='binary_crossentropy', optimizer='adam', metrics=['accuracy'])\n",
    "print(model.summary())"
   ]
  },
  {
   "cell_type": "code",
   "execution_count": 67,
   "metadata": {},
   "outputs": [
    {
     "name": "stderr",
     "output_type": "stream",
     "text": [
      "/anaconda3/envs/yolo/lib/python3.6/site-packages/ipykernel_launcher.py:1: UserWarning: The `nb_epoch` argument in `fit` has been renamed `epochs`.\n",
      "  \"\"\"Entry point for launching an IPython kernel.\n"
     ]
    },
    {
     "name": "stdout",
     "output_type": "stream",
     "text": [
      "Train on 70000 samples, validate on 30000 samples\n",
      "Epoch 1/10\n",
      "70000/70000 [==============================] - 968s 14ms/step - loss: 0.2280 - acc: 0.9135 - val_loss: 0.1922 - val_acc: 0.9263\n",
      "Epoch 2/10\n",
      "70000/70000 [==============================] - 981s 14ms/step - loss: 0.1716 - acc: 0.9338 - val_loss: 0.1887 - val_acc: 0.9270\n",
      "Epoch 3/10\n",
      "70000/70000 [==============================] - 977s 14ms/step - loss: 0.1551 - acc: 0.9415 - val_loss: 0.1901 - val_acc: 0.9262\n",
      "Epoch 4/10\n",
      "70000/70000 [==============================] - 960s 14ms/step - loss: 0.1586 - acc: 0.9394 - val_loss: 0.1964 - val_acc: 0.9287\n",
      "Epoch 5/10\n",
      "70000/70000 [==============================] - 995s 14ms/step - loss: 0.1341 - acc: 0.9498 - val_loss: 0.1993 - val_acc: 0.9238\n",
      "Epoch 6/10\n",
      "70000/70000 [==============================] - 962s 14ms/step - loss: 0.1227 - acc: 0.9543 - val_loss: 0.2024 - val_acc: 0.9244\n",
      "Epoch 7/10\n",
      "70000/70000 [==============================] - 1271s 18ms/step - loss: 0.1114 - acc: 0.9597 - val_loss: 0.2110 - val_acc: 0.9239\n",
      "Epoch 8/10\n",
      "70000/70000 [==============================] - 1279s 18ms/step - loss: 0.0997 - acc: 0.9652 - val_loss: 0.2313 - val_acc: 0.9249\n",
      "Epoch 9/10\n",
      "70000/70000 [==============================] - 1091s 16ms/step - loss: 0.0866 - acc: 0.9696 - val_loss: 0.2689 - val_acc: 0.9229\n",
      "Epoch 10/10\n",
      "70000/70000 [==============================] - 931s 13ms/step - loss: 0.0758 - acc: 0.9743 - val_loss: 0.2480 - val_acc: 0.9226\n",
      "Accuracy: 92.26%\n"
     ]
    }
   ],
   "source": [
    "model.fit(X_train, reviews_score_train, nb_epoch=10, batch_size=64,validation_data=(X_test, reviews_score_test))\n",
    "# Final evaluation of the model\n",
    "scores = model.evaluate(X_test, reviews_score_test, verbose=0)\n",
    "print(\"Accuracy: %.2f%%\" % (scores[1]*100))"
   ]
  },
  {
   "cell_type": "code",
   "execution_count": 68,
   "metadata": {},
   "outputs": [],
   "source": [
    "model.save_weights('amazon_fine_food_epoch_10')"
   ]
  },
  {
   "cell_type": "code",
   "execution_count": 84,
   "metadata": {},
   "outputs": [
    {
     "data": {
      "text/plain": [
       "dict_keys(['val_loss', 'val_acc', 'loss', 'acc'])"
      ]
     },
     "execution_count": 84,
     "metadata": {},
     "output_type": "execute_result"
    }
   ],
   "source": [
    "model.history.history.keys()"
   ]
  },
  {
   "cell_type": "code",
   "execution_count": 85,
   "metadata": {},
   "outputs": [
    {
     "name": "stdout",
     "output_type": "stream",
     "text": [
      "dict_keys(['val_loss', 'val_acc', 'loss', 'acc'])\n"
     ]
    },
    {
     "data": {
      "image/png": "[encoded data removed]",
      "text/plain": [
       "<Figure size 432x288 with 1 Axes>"
      ]
     },
     "metadata": {
      "needs_background": "light"
     },
     "output_type": "display_data"
    },
    {
     "data": {
      "image/png": "[encoded data removed]",
      "text/plain": [
       "<Figure size 432x288 with 1 Axes>"
      ]
     },
     "metadata": {
      "needs_background": "light"
     },
     "output_type": "display_data"
    }
   ],
   "source": [
    "print(model.history.history.keys())\n",
    "# summarize history for accuracy\n",
    "plt.plot(model.history.history['acc'])\n",
    "plt.plot(model.history.history['val_acc'])\n",
    "plt.title('model accuracy')\n",
    "plt.ylabel('accuracy')\n",
    "plt.xlabel('epoch')\n",
    "plt.legend(['train', 'test'], loc='upper left')\n",
    "plt.show()\n",
    "# summarize history for loss\n",
    "plt.plot(model.history.history['loss'])\n",
    "plt.plot(model.history.history['val_loss'])\n",
    "plt.title('model loss')\n",
    "plt.ylabel('loss')\n",
    "plt.xlabel('epoch')\n",
    "plt.legend(['train', 'test'], loc='upper left')\n",
    "plt.show()"
   ]
  },
  {
   "cell_type": "code",
   "execution_count": 21,
   "metadata": {},
   "outputs": [],
   "source": [
    "model.load_weights('amazon_fine_food_epoch_10')"
   ]
  },
  {
   "cell_type": "code",
   "execution_count": 61,
   "metadata": {},
   "outputs": [],
   "source": [
    "y_pred_train = model.predict(X_train)"
   ]
  },
  {
   "cell_type": "code",
   "execution_count": 63,
   "metadata": {},
   "outputs": [],
   "source": [
    "train_pred = []\n",
    "for i in y_pred_train :\n",
    "    if i[0] >0.50 :\n",
    "        train_pred.append(1)\n",
    "    else:\n",
    "        train_pred.append(0)\n",
    "        \n",
    "train_pred = np.array(train_pred)\n",
    "    "
   ]
  },
  {
   "cell_type": "code",
   "execution_count": 64,
   "metadata": {},
   "outputs": [],
   "source": [
    "from sklearn.metrics import confusion_matrix\n",
    "matrix = confusion_matrix(reviews_score_train,train_pred)"
   ]
  },
  {
   "cell_type": "code",
   "execution_count": 65,
   "metadata": {},
   "outputs": [
    {
     "data": {
      "image/png": "[encoded data removed]",
      "text/plain": [
       "<Figure size 432x288 with 2 Axes>"
      ]
     },
     "metadata": {
      "needs_background": "light"
     },
     "output_type": "display_data"
    }
   ],
   "source": [
    "class_label = [\"negative\", \"positive\"]\n",
    "df_cm = pd.DataFrame(matrix, index = class_label, columns = class_label)\n",
    "sns.heatmap(df_cm, annot = True, fmt = \"d\")\n",
    "plt.title(\"Confusion Matrix\")\n",
    "plt.xlabel(\"Predicted Label\")\n",
    "plt.ylabel(\"True Label\")\n",
    "plt.show()"
   ]
  },
  {
   "cell_type": "code",
   "execution_count": 22,
   "metadata": {},
   "outputs": [],
   "source": [
    "y_pred_test = model.predict(X_test)"
   ]
  },
  {
   "cell_type": "code",
   "execution_count": 48,
   "metadata": {},
   "outputs": [],
   "source": [
    "test_pred = []\n",
    "for i in y_pred_test :\n",
    "    if i[0] >0.50 :\n",
    "        test_pred.append(1)\n",
    "    else:\n",
    "        test_pred.append(0)\n",
    "        \n",
    "test_pred = np.array(test_pred)\n",
    "    "
   ]
  },
  {
   "cell_type": "code",
   "execution_count": 56,
   "metadata": {},
   "outputs": [],
   "source": [
    "from sklearn.metrics import confusion_matrix\n",
    "\n",
    "matrix = confusion_matrix(reviews_score_test,test_pred)\n"
   ]
  },
  {
   "cell_type": "code",
   "execution_count": 60,
   "metadata": {},
   "outputs": [
    {
     "data": {
      "image/png": "[encoded data removed]",
      "text/plain": [
       "<Figure size 432x288 with 2 Axes>"
      ]
     },
     "metadata": {
      "needs_background": "light"
     },
     "output_type": "display_data"
    }
   ],
   "source": [
    "class_label = [\"negative\", \"positive\"]\n",
    "df_cm = pd.DataFrame(matrix, index = class_label, columns = class_label)\n",
    "sns.heatmap(df_cm, annot = True, fmt = \"d\")\n",
    "plt.title(\"Confusion Matrix\")\n",
    "plt.xlabel(\"Predicted Label\")\n",
    "plt.ylabel(\"True Label\")\n",
    "plt.show()"
   ]
  },
  {
   "cell_type": "code",
   "execution_count": null,
   "metadata": {},
   "outputs": [],
   "source": [
    "gsv = openfile('GridSearch_Avg_W2V_XGBoost')\n",
    "\n",
    "x1=[]\n",
    "y1=[]\n",
    "x2=[]\n",
    "y2=[]\n",
    "gsv.cv_results_\n",
    "means = gsv.cv_results_['mean_test_score']\n",
    "means_train = gsv.cv_results_['mean_train_score']\n",
    "stds = gsv.cv_results_['std_test_score']\n",
    "for mean, mean_train ,  std, params in zip(means, means_train,stds, gsv.cv_results_['params']):\n",
    "\n",
    "    if params['n_estimators'] == 1000:\n",
    "        x1.append(params['max_depth'])\n",
    "        y1.append(mean)\n",
    "        x2.append(params['max_depth'])\n",
    "        y2.append(mean_train)\n",
    "\n",
    "        \n",
    "\n",
    "plt.xlabel(\"Max Depth\",fontsize=15)\n",
    "plt.ylabel(\"AUC\")\n",
    "plt.title('AUC v/s Max Depth')\n",
    "\n",
    "plt.plot(x1,y1,'b',label=\"Test\")\n",
    "plt.plot(x2,y2,'r',label=\"Train\")\n",
    "plt.legend()\n",
    "plt.show()"
   ]
  },
  {
   "cell_type": "markdown",
   "metadata": {},
   "source": [
    "### Testing the trained model on food review :"
   ]
  },
  {
   "cell_type": "code",
   "execution_count": 26,
   "metadata": {},
   "outputs": [],
   "source": [
    "def clean_text(sentence):\n",
    "    sentence = re.sub(r\"http\\S+\", \"\", sentence)\n",
    "    sentence = BeautifulSoup(sentence, 'lxml').get_text()\n",
    "    sentence = decontracted(sentence)\n",
    "    sentence = re.sub(\"\\S*\\d\\S*\", \"\", sentence).strip()\n",
    "    sentence = re.sub('[^A-Za-z]+', ' ', sentence)\n",
    "    # https://gist.github.com/sebleier/554b280\n",
    "    sentence = ' '.join(e.lower() for e in sentence.split() if e.lower() not in stopwords)\n",
    "    return sentence.strip()"
   ]
  },
  {
   "cell_type": "code",
   "execution_count": 49,
   "metadata": {},
   "outputs": [
    {
     "data": {
      "text/plain": [
       "(215022,)"
      ]
     },
     "execution_count": 49,
     "metadata": {},
     "output_type": "execute_result"
    }
   ],
   "source": [
    "reviews_score_train[reviews_score_train==1].shape"
   ]
  },
  {
   "cell_type": "code",
   "execution_count": 79,
   "metadata": {},
   "outputs": [],
   "source": [
    "test_text = [\"Pizza was good\"]"
   ]
  },
  {
   "cell_type": "code",
   "execution_count": 80,
   "metadata": {},
   "outputs": [],
   "source": [
    "review_text = clean_text(test_text[0])"
   ]
  },
  {
   "cell_type": "code",
   "execution_count": 81,
   "metadata": {},
   "outputs": [],
   "source": [
    "test_text = [review_text]"
   ]
  },
  {
   "cell_type": "code",
   "execution_count": 82,
   "metadata": {},
   "outputs": [
    {
     "name": "stderr",
     "output_type": "stream",
     "text": [
      "100%|██████████| 1/1 [00:00<00:00, 1851.79it/s]"
     ]
    },
    {
     "name": "stdout",
     "output_type": "stream",
     "text": [
      "['pizza', 'good']\n"
     ]
    },
    {
     "name": "stderr",
     "output_type": "stream",
     "text": [
      "\n"
     ]
    }
   ],
   "source": [
    "sentence_test_ids = []\n",
    "for line in tqdm(test_text) :\n",
    "    print (tokenizer(line))\n",
    "    sentence_test = []\n",
    "    for x in tokenizer(line):\n",
    "        sentence_test.append( word_count_sorted.get(x,0) )\n",
    "        \n",
    "    sentence_test_ids.append(sentence_test)"
   ]
  },
  {
   "cell_type": "code",
   "execution_count": 83,
   "metadata": {},
   "outputs": [],
   "source": [
    "X_test_sent = sequence.pad_sequences(sentence_test_ids, maxlen=max_review_length)"
   ]
  },
  {
   "cell_type": "code",
   "execution_count": 84,
   "metadata": {},
   "outputs": [
    {
     "name": "stdout",
     "output_type": "stream",
     "text": [
      "0.99879897\n",
      "positive\n"
     ]
    }
   ],
   "source": [
    "print (model.predict(X_test_sent)[0][0])\n",
    "if model.predict(X_test_sent)[0][0] <0.50 :\n",
    "    print (\"negative\")\n",
    "else :\n",
    "    print (\"positive\")\n"
   ]
  },
  {
   "cell_type": "markdown",
   "metadata": {},
   "source": [
    "## Conclusion :"
   ]
  },
  {
   "cell_type": "markdown",
   "metadata": {},
   "source": [
    "- To preserve the sequence of reviews for LSTMs , words are converted to ids and it is feed into the LSTM network.\n",
    "- Word ids are decided based on frequencies in the corpous . After cleaning the reviews , we use count vectorizer (BoW) to count the occurrences(frequency) of word and take top 5000 words . \n",
    "- Every sentence is padded or truncated if the length is less or more than 500 . The benefit of making reviews of same size is when training with batches in LSTM it increases the speed of training . \n",
    "- In LSTM , the sequence of reviews is maintained same as the context of word is preserved in word2vec . \n",
    "- As number of epochs increases , model starts overfitting ."
   ]
  }
 ],
 "metadata": {
  "kernelspec": {
   "display_name": "Python 3",
   "language": "python",
   "name": "python3"
  },
  "language_info": {
   "codemirror_mode": {
    "name": "ipython",
    "version": 3
   },
   "file_extension": ".py",
   "mimetype": "text/x-python",
   "name": "python",
   "nbconvert_exporter": "python",
   "pygments_lexer": "ipython3",
   "version": "3.6.7"
  }
 },
 "nbformat": 4,
 "nbformat_minor": 2
}
